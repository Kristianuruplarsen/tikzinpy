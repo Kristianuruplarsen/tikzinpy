{
 "cells": [
  {
   "cell_type": "code",
   "execution_count": 1,
   "metadata": {},
   "outputs": [],
   "source": [
    "import tikzinpy as tip\n",
    "from tikzinpy import bshow #build and show\n",
    "\n",
    "import seaborn as sns \n",
    "import numpy as np \n",
    "import matplotlib.pyplot as plt \n",
    "\n",
    "data = sns.load_dataset('iris')\n",
    "\n",
    "# This is just some data to test with\n",
    "data_x = np.linspace(-2, 6, 100)\n",
    "data_e = np.random.uniform(0,1, size = 100)\n",
    "data_y = 0.5*data_x + data_e"
   ]
  },
  {
   "cell_type": "code",
   "execution_count": 2,
   "metadata": {},
   "outputs": [],
   "source": [
    "x = data.sepal_length\n",
    "y = data.sepal_width\n",
    "color = data.petal_length"
   ]
  },
  {
   "cell_type": "markdown",
   "metadata": {},
   "source": [
    "# Point"
   ]
  },
  {
   "cell_type": "code",
   "execution_count": 3,
   "metadata": {},
   "outputs": [
    {
     "data": {
      "text/html": [
       "<iframe src=test/point.pdf width=700 height=450></iframe>"
      ],
      "text/latex": [
       "\\includegraphics[width=1.0\\textwidth]{test/point.pdf}"
      ],
      "text/plain": [
       "<tikzinpy.pdfshow.PDF at 0x7f86c091c5c0>"
      ]
     },
     "execution_count": 3,
     "metadata": {},
     "output_type": "execute_result"
    }
   ],
   "source": [
    "base = tip.tikzBase()\n",
    "\n",
    "base += tip.point(0,0)\n",
    "base += tip.point(1,1, color = 'red', shape = 'hollow', size = 'Huge')\n",
    "base += tip.point(-1,-1, color = 'blue', shape = 'fill', alpha = 0.5, size = 'Large')\n",
    "base += tip.point(1,0, color = 'orange', shape = 'fill', alpha = 1, size = 'Huge')\n",
    "\n",
    "bshow(base, 'test/', 'point')"
   ]
  },
  {
   "cell_type": "markdown",
   "metadata": {},
   "source": [
    "# Lines"
   ]
  },
  {
   "cell_type": "code",
   "execution_count": 4,
   "metadata": {},
   "outputs": [
    {
     "data": {
      "text/html": [
       "<iframe src=test/line.pdf width=700 height=450></iframe>"
      ],
      "text/latex": [
       "\\includegraphics[width=1.0\\textwidth]{test/line.pdf}"
      ],
      "text/plain": [
       "<tikzinpy.pdfshow.PDF at 0x7f86977abfd0>"
      ]
     },
     "execution_count": 4,
     "metadata": {},
     "output_type": "execute_result"
    }
   ],
   "source": [
    "base = tip.tikzBase()\n",
    "\n",
    "base += tip.line(0,10,0,10)\n",
    "base += tip.line(5,8,5,5, label = 'newline', align = 'right')\n",
    "\n",
    "base += tip.line(x1=4, x2=2, y1=4, y2=4, label = 'newline', align = 'left', draw_opts = ['red', 'very thin', '->'])\n",
    "\n",
    "bshow(base, 'test/', 'line')"
   ]
  },
  {
   "cell_type": "markdown",
   "metadata": {},
   "source": [
    "# Arrows"
   ]
  },
  {
   "cell_type": "code",
   "execution_count": 5,
   "metadata": {},
   "outputs": [
    {
     "data": {
      "text/html": [
       "<iframe src=test/arrow.pdf width=700 height=450></iframe>"
      ],
      "text/latex": [
       "\\includegraphics[width=1.0\\textwidth]{test/arrow.pdf}"
      ],
      "text/plain": [
       "<tikzinpy.pdfshow.PDF at 0x7f86c1176a58>"
      ]
     },
     "execution_count": 5,
     "metadata": {},
     "output_type": "execute_result"
    }
   ],
   "source": [
    "base = tip.tikzBase()\n",
    "\n",
    "base += tip.arrow(0,5,0,0, draw_opts=['very thick'])\n",
    "base += tip.arrow(0,0,0,5, label = '\\\\textcolor{blue}{axis}', align = 'above', draw_opts=['red', 'very thick'])\n",
    "\n",
    "bshow(base, 'test/', 'arrow')"
   ]
  },
  {
   "cell_type": "markdown",
   "metadata": {},
   "source": [
    "# Ticks"
   ]
  },
  {
   "cell_type": "code",
   "execution_count": 6,
   "metadata": {},
   "outputs": [],
   "source": [
    "base = tip.tikzBase()\n",
    "\n",
    "\n",
    "base += tip.ticks([0,1,2,3,4,5], 'h')\n",
    "base += tip.ticks([0,1,2,3,4,5], 'v')\n",
    "\n",
    "base += tip.ticks([0,1,2,3,4,5], 'v', x = 5)\n",
    "base += tip.ticks([0,1,2,3,4,5], 'h', y = 5, rangekwargs = {'decimals':1})\n",
    "\n",
    "base += tip.ticks([0,1,2], 'v', y = 2, x = 3)\n"
   ]
  },
  {
   "cell_type": "code",
   "execution_count": 7,
   "metadata": {
    "scrolled": true
   },
   "outputs": [
    {
     "data": {
      "text/html": [
       "<iframe src=test/ticks.pdf width=700 height=450></iframe>"
      ],
      "text/latex": [
       "\\includegraphics[width=1.0\\textwidth]{test/ticks.pdf}"
      ],
      "text/plain": [
       "<tikzinpy.pdfshow.PDF at 0x7f86c091c3c8>"
      ]
     },
     "execution_count": 7,
     "metadata": {},
     "output_type": "execute_result"
    }
   ],
   "source": [
    "bshow(base, 'test/', 'ticks')"
   ]
  },
  {
   "cell_type": "code",
   "execution_count": 8,
   "metadata": {},
   "outputs": [
    {
     "data": {
      "text/html": [
       "<iframe src=test/ticks2.pdf width=700 height=450></iframe>"
      ],
      "text/latex": [
       "\\includegraphics[width=1.0\\textwidth]{test/ticks2.pdf}"
      ],
      "text/plain": [
       "<tikzinpy.pdfshow.PDF at 0x7f86976b2fd0>"
      ]
     },
     "execution_count": 8,
     "metadata": {},
     "output_type": "execute_result"
    }
   ],
   "source": [
    "base = tip.tikzBase()\n",
    "\n",
    "base += tip.ticks([-1,0,1,2,3,4,5], 'h', tickalign = 'left', tickwidth = 10, draw_opts=['red', 'thick'])\n",
    "base += tip.ticks([-1,0,1,2,3,4,5], 'v', tickalign = 'left', tickwidth = 10)\n",
    "\n",
    "base += tip.line(-1,5,0,0, draw_opts = ['thick'])\n",
    "base += tip.line(0,0,-1,5, draw_opts = ['thick'])\n",
    "\n",
    "bshow(base, 'test/', 'ticks2')"
   ]
  },
  {
   "cell_type": "markdown",
   "metadata": {},
   "source": [
    "# Tickmarks"
   ]
  },
  {
   "cell_type": "code",
   "execution_count": 9,
   "metadata": {},
   "outputs": [],
   "source": [
    "base = tip.tikzBase()\n",
    "\n",
    "base += tip.ticks([-1,0,1,2,3,4,5], 'h', tickalign = 'center', tickwidth = 2)\n",
    "base += tip.ticks([-1,0,1,2,3,4,5], 'v', tickalign = 'center', tickwidth = 2)\n",
    "\n",
    "\n",
    "base += tip.tickmarks([-1,0,1,2,3,4,5], 'h', dy = 0, align = 'below')\n",
    "base += tip.tickmarks([-1,0,1,2,3,4,5], 'v', dx = 0, align = 'left')"
   ]
  },
  {
   "cell_type": "code",
   "execution_count": 10,
   "metadata": {},
   "outputs": [
    {
     "data": {
      "text/html": [
       "<iframe src=test/tickmarks.pdf width=700 height=450></iframe>"
      ],
      "text/latex": [
       "\\includegraphics[width=1.0\\textwidth]{test/tickmarks.pdf}"
      ],
      "text/plain": [
       "<tikzinpy.pdfshow.PDF at 0x7f86c091c438>"
      ]
     },
     "execution_count": 10,
     "metadata": {},
     "output_type": "execute_result"
    }
   ],
   "source": [
    "bshow(base, 'test/', 'tickmarks')"
   ]
  },
  {
   "cell_type": "markdown",
   "metadata": {},
   "source": [
    "## x and y-axis"
   ]
  },
  {
   "cell_type": "code",
   "execution_count": 11,
   "metadata": {},
   "outputs": [],
   "source": [
    "base = tip.tikzBase()\n",
    "\n",
    "base += tip.xaxis(0,4.9,0, align = 'below', label = '$x$', draw_opts = ['thin'], tickwidth = 4, tickalign = 'left')\n",
    "base += tip.yaxis(0,4.9,0, align = 'left', label = '$y$', draw_opts = ['thin'], tickwidth = 4, tickalign = 'left')\n"
   ]
  },
  {
   "cell_type": "code",
   "execution_count": 12,
   "metadata": {},
   "outputs": [
    {
     "data": {
      "text/html": [
       "<iframe src=test/xyaxis.pdf width=700 height=450></iframe>"
      ],
      "text/latex": [
       "\\includegraphics[width=1.0\\textwidth]{test/xyaxis.pdf}"
      ],
      "text/plain": [
       "<tikzinpy.pdfshow.PDF at 0x7f86976b2400>"
      ]
     },
     "execution_count": 12,
     "metadata": {},
     "output_type": "execute_result"
    }
   ],
   "source": [
    "bshow(base, 'test/', 'xyaxis')"
   ]
  },
  {
   "cell_type": "markdown",
   "metadata": {},
   "source": [
    "# Scatter"
   ]
  },
  {
   "cell_type": "code",
   "execution_count": 13,
   "metadata": {},
   "outputs": [
    {
     "data": {
      "text/html": [
       "<iframe src=test/scatter.pdf width=700 height=450></iframe>"
      ],
      "text/latex": [
       "\\includegraphics[width=1.0\\textwidth]{test/scatter.pdf}"
      ],
      "text/plain": [
       "<tikzinpy.pdfshow.PDF at 0x7f86976b2438>"
      ]
     },
     "execution_count": 13,
     "metadata": {},
     "output_type": "execute_result"
    }
   ],
   "source": [
    "base = tip.tikzBase()\n",
    "\n",
    "base += tip.pointscatter(data_x, data_y, color = data_e, alpha = 1)\n",
    "base += tip.pointscatter(data_x, 0.2*data_y**2, color = 'blue', shape = 'hollow')\n",
    "\n",
    "bshow(base, 'test/', 'scatter')"
   ]
  },
  {
   "cell_type": "markdown",
   "metadata": {},
   "source": [
    "# Colorbar"
   ]
  },
  {
   "cell_type": "code",
   "execution_count": 16,
   "metadata": {},
   "outputs": [
    {
     "data": {
      "text/html": [
       "<iframe src=test/colorbar.pdf width=700 height=450></iframe>"
      ],
      "text/latex": [
       "\\includegraphics[width=1.0\\textwidth]{test/colorbar.pdf}"
      ],
      "text/plain": [
       "<tikzinpy.pdfshow.PDF at 0x7f8697699dd8>"
      ]
     },
     "execution_count": 16,
     "metadata": {},
     "output_type": "execute_result"
    }
   ],
   "source": [
    "base = tip.tikzBase()\n",
    "\n",
    "base += tip.pointscatter(data_x, data_y, color = data_e, cmap = 'PuOr', alpha = 1)\n",
    "\n",
    "base += tip.point(-0.5,-0.5)\n",
    "base += tip.colors.colorbar(data_e, 'PuOr', stepsize = 0.1, orientation = 'horizontal', width = 5, height = 0.2,\n",
    "                           x = -0.5, y = -0.5, fontsize = 'footnotesize', label = '$\\epsilon$')\n",
    "\n",
    "bshow(base, 'test/', 'colorbar')"
   ]
  },
  {
   "cell_type": "markdown",
   "metadata": {},
   "source": [
    "# Line plot"
   ]
  },
  {
   "cell_type": "code",
   "execution_count": 15,
   "metadata": {},
   "outputs": [
    {
     "data": {
      "text/html": [
       "<iframe src=test/line.pdf width=700 height=450></iframe>"
      ],
      "text/latex": [
       "\\includegraphics[width=1.0\\textwidth]{test/line.pdf}"
      ],
      "text/plain": [
       "<tikzinpy.pdfshow.PDF at 0x7f86976b29b0>"
      ]
     },
     "execution_count": 15,
     "metadata": {},
     "output_type": "execute_result"
    }
   ],
   "source": [
    "base = tip.tikzBase()\n",
    "\n",
    "base += tip.lineplot(data_x, data_y)\n",
    "base += tip.lineplot(data_x, data_y+0.5, color='black')\n",
    "base += tip.lineplot(data_x, data_y-0.5, '->', color='black')\n",
    "\n",
    "bshow(base, 'test/', 'line')"
   ]
  },
  {
   "cell_type": "raw",
   "metadata": {},
   "source": []
  }
 ],
 "metadata": {
  "kernelspec": {
   "display_name": "Python 3",
   "language": "python",
   "name": "python3"
  },
  "language_info": {
   "codemirror_mode": {
    "name": "ipython",
    "version": 3
   },
   "file_extension": ".py",
   "mimetype": "text/x-python",
   "name": "python",
   "nbconvert_exporter": "python",
   "pygments_lexer": "ipython3",
   "version": "3.7.3"
  }
 },
 "nbformat": 4,
 "nbformat_minor": 2
}
