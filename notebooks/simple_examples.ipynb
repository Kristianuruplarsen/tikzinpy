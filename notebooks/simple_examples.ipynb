{
 "cells": [
  {
   "cell_type": "code",
   "execution_count": 1,
   "metadata": {},
   "outputs": [],
   "source": [
    "import tikzinpy as tip\n",
    "\n",
    "import seaborn as sns \n",
    "import numpy as np \n",
    "import matplotlib.pyplot as plt \n",
    "\n",
    "data = sns.load_dataset('iris')\n",
    "\n",
    "def bshow(base, path, name = 'test'):\n",
    "    x = tip.build(base.figure, path, name)\n",
    "    if x != 0:\n",
    "        print(\"Build error\")\n",
    "        \n",
    "    return tip.PDF(f'{path}{name}.pdf', size=(700,450))\n",
    "\n",
    "# This is just some data to test with\n",
    "data_x = np.linspace(-2, 6, 100)\n",
    "data_e = np.random.uniform(0,1, size = 100)\n",
    "data_y = 0.5*data_x + data_e"
   ]
  },
  {
   "cell_type": "code",
   "execution_count": 2,
   "metadata": {},
   "outputs": [],
   "source": [
    "x = data.sepal_length\n",
    "y = data.sepal_width\n",
    "color = data.petal_length"
   ]
  },
  {
   "cell_type": "code",
   "execution_count": 3,
   "metadata": {},
   "outputs": [
    {
     "data": {
      "text/html": [
       "<iframe src=test/colorbar.pdf width=700 height=450></iframe>"
      ],
      "text/latex": [
       "\\includegraphics[width=1.0\\textwidth]{test/colorbar.pdf}"
      ],
      "text/plain": [
       "<tikzinpy.pdfshow.PDF at 0x7f62207aea58>"
      ]
     },
     "execution_count": 3,
     "metadata": {},
     "output_type": "execute_result"
    }
   ],
   "source": [
    "base = tip.tikzBase()\n",
    "\n",
    "base += tip.scatter(data_x, data_y, color = data_e, cmap = 'Spectral', alpha = 1)\n",
    "base += tip.scatter(data_x, 0.2*data_y**2, color = 'blue', shape = 'hollow')\n",
    "\n",
    "base += tip.point(-0.5,-0.5)\n",
    "base += tip.colors.colorbar(data_e, 'Spectral', step = 0.1, orientation = 'horizontal', width = 5, height = 0.2,\n",
    "                           x = -0.5, y = -0.5, fontsize = 'footnotesize', label = '$\\epsilon$')\n",
    "\n",
    "bshow(base, 'test/', 'colorbar')"
   ]
  },
  {
   "cell_type": "code",
   "execution_count": 21,
   "metadata": {},
   "outputs": [],
   "source": [
    "n,c = tip.get_cmap_and_normalizer('Spectral', 10, data = data_e)\n",
    "\n",
    "sm = plt.cm.ScalarMappable(c,n)"
   ]
  },
  {
   "cell_type": "code",
   "execution_count": 22,
   "metadata": {},
   "outputs": [
    {
     "name": "stdout",
     "output_type": "stream",
     "text": [
      "[ 0.64992086 -0.05929866  0.21002859  1.06071831]\n"
     ]
    },
    {
     "data": {
      "text/plain": [
       "(0.3686274509803922, 0.30980392156862746, 0.6352941176470588, 1.0)"
      ]
     },
     "execution_count": 22,
     "metadata": {},
     "output_type": "execute_result"
    }
   ],
   "source": [
    "print(c(n(3)))\n",
    "sm.to_rgba(3)"
   ]
  },
  {
   "cell_type": "code",
   "execution_count": 12,
   "metadata": {},
   "outputs": [
    {
     "data": {
      "text/plain": [
       "(0.6483025460320149, -0.06647340625046062, 0.21315145896038384)"
      ]
     },
     "execution_count": 12,
     "metadata": {},
     "output_type": "execute_result"
    }
   ],
   "source": [
    "r,g,b"
   ]
  },
  {
   "cell_type": "markdown",
   "metadata": {},
   "source": [
    "# Testing point"
   ]
  },
  {
   "cell_type": "code",
   "execution_count": 3,
   "metadata": {},
   "outputs": [
    {
     "data": {
      "text/html": [
       "<iframe src=test/point.pdf width=700 height=450></iframe>"
      ],
      "text/latex": [
       "\\includegraphics[width=1.0\\textwidth]{test/point.pdf}"
      ],
      "text/plain": [
       "<tikzinpy.pdfshow.PDF at 0x7f69db4d4e48>"
      ]
     },
     "execution_count": 3,
     "metadata": {},
     "output_type": "execute_result"
    }
   ],
   "source": [
    "base = tip.tikzBase()\n",
    "\n",
    "base += tip.point(0,0)\n",
    "base += tip.point(1,1, color = 'red', shape = 'hollow', size = 'Huge')\n",
    "base += tip.point(-1,-1, color = 'blue', shape = 'fill', alpha = 0.5, size = 'Large')\n",
    "base += tip.point(1,0, color = 'orange', shape = 'fill', alpha = 1, size = 'Huge')\n",
    "\n",
    "bshow(base, 'test/', 'point')"
   ]
  },
  {
   "cell_type": "markdown",
   "metadata": {},
   "source": [
    "# Lines"
   ]
  },
  {
   "cell_type": "code",
   "execution_count": 4,
   "metadata": {},
   "outputs": [
    {
     "data": {
      "text/html": [
       "<iframe src=test/line.pdf width=700 height=450></iframe>"
      ],
      "text/latex": [
       "\\includegraphics[width=1.0\\textwidth]{test/line.pdf}"
      ],
      "text/plain": [
       "<tikzinpy.pdfshow.PDF at 0x7f69d790ac18>"
      ]
     },
     "execution_count": 4,
     "metadata": {},
     "output_type": "execute_result"
    }
   ],
   "source": [
    "base = tip.tikzBase()\n",
    "\n",
    "base += tip.line(0,10,0,10)\n",
    "base += tip.line(5,8,5,5, label = 'newline', align = 'right')\n",
    "\n",
    "base += tip.line(x1=4, x2=2, y1=4, y2=4, label = 'newline', align = 'left', draw_opts = ['red', 'very thin', '->'])\n",
    "\n",
    "bshow(base, 'test/', 'line')"
   ]
  },
  {
   "cell_type": "markdown",
   "metadata": {},
   "source": [
    "# Arrows"
   ]
  },
  {
   "cell_type": "code",
   "execution_count": 5,
   "metadata": {},
   "outputs": [
    {
     "data": {
      "text/html": [
       "<iframe src=test/arrow.pdf width=700 height=450></iframe>"
      ],
      "text/latex": [
       "\\includegraphics[width=1.0\\textwidth]{test/arrow.pdf}"
      ],
      "text/plain": [
       "<tikzinpy.pdfshow.PDF at 0x7f69d790a9b0>"
      ]
     },
     "execution_count": 5,
     "metadata": {},
     "output_type": "execute_result"
    }
   ],
   "source": [
    "base = tip.tikzBase()\n",
    "\n",
    "base += tip.arrow(0,5,0,0, draw_opts=['very thick'])\n",
    "base += tip.arrow(0,0,0,5, label = '\\\\textcolor{blue}{axis}', align = 'above', draw_opts=['red', 'very thick'])\n",
    "\n",
    "bshow(base, 'test/', 'arrow')"
   ]
  },
  {
   "cell_type": "markdown",
   "metadata": {},
   "source": [
    "# Ticks"
   ]
  },
  {
   "cell_type": "code",
   "execution_count": 6,
   "metadata": {},
   "outputs": [],
   "source": [
    "base = tip.tikzBase()\n",
    "\n",
    "\n",
    "base += tip.ticks([0,1,2,3,4,5], 'h')\n",
    "base += tip.ticks([0,1,2,3,4,5], 'v')\n",
    "\n",
    "base += tip.ticks([0,1,2,3,4,5], 'v', x = 5)\n",
    "base += tip.ticks([0,1,2,3,4,5], 'h', y = 5, rangekwargs = {'decimals':1})\n",
    "\n",
    "base += tip.ticks([0,1,2], 'v', y = 2, x = 3)\n"
   ]
  },
  {
   "cell_type": "code",
   "execution_count": 7,
   "metadata": {
    "scrolled": true
   },
   "outputs": [
    {
     "data": {
      "text/html": [
       "<iframe src=test/ticks.pdf width=700 height=450></iframe>"
      ],
      "text/latex": [
       "\\includegraphics[width=1.0\\textwidth]{test/ticks.pdf}"
      ],
      "text/plain": [
       "<tikzinpy.pdfshow.PDF at 0x7f6a00a7f400>"
      ]
     },
     "execution_count": 7,
     "metadata": {},
     "output_type": "execute_result"
    }
   ],
   "source": [
    "bshow(base, 'test/', 'ticks')"
   ]
  },
  {
   "cell_type": "code",
   "execution_count": 8,
   "metadata": {},
   "outputs": [
    {
     "data": {
      "text/html": [
       "<iframe src=test/ticks2.pdf width=700 height=450></iframe>"
      ],
      "text/latex": [
       "\\includegraphics[width=1.0\\textwidth]{test/ticks2.pdf}"
      ],
      "text/plain": [
       "<tikzinpy.pdfshow.PDF at 0x7f69d790ac50>"
      ]
     },
     "execution_count": 8,
     "metadata": {},
     "output_type": "execute_result"
    }
   ],
   "source": [
    "base = tip.tikzBase()\n",
    "\n",
    "base += tip.ticks([-1,0,1,2,3,4,5], 'h', tickalign = 'left', tickwidth = 10, draw_opts=['red', 'thick'])\n",
    "base += tip.ticks([-1,0,1,2,3,4,5], 'v', tickalign = 'left', tickwidth = 10)\n",
    "\n",
    "base += tip.line(-1,5,0,0, draw_opts = ['thick'])\n",
    "base += tip.line(0,0,-1,5, draw_opts = ['thick'])\n",
    "\n",
    "bshow(base, 'test/', 'ticks2')"
   ]
  },
  {
   "cell_type": "markdown",
   "metadata": {},
   "source": [
    "# Tickmarks"
   ]
  },
  {
   "cell_type": "code",
   "execution_count": 9,
   "metadata": {},
   "outputs": [],
   "source": [
    "base = tip.tikzBase()\n",
    "\n",
    "base += tip.ticks([-1,0,1,2,3,4,5], 'h', tickalign = 'center', tickwidth = 2)\n",
    "base += tip.ticks([-1,0,1,2,3,4,5], 'v', tickalign = 'center', tickwidth = 2)\n",
    "\n",
    "\n",
    "base += tip.tickmarks([-1,0,1,2,3,4,5], 'h', dy = 0, align = 'below')\n",
    "base += tip.tickmarks([-1,0,1,2,3,4,5], 'v', dx = 0, align = 'left')"
   ]
  },
  {
   "cell_type": "code",
   "execution_count": 10,
   "metadata": {},
   "outputs": [
    {
     "data": {
      "text/html": [
       "<iframe src=test/tickmarks.pdf width=700 height=450></iframe>"
      ],
      "text/latex": [
       "\\includegraphics[width=1.0\\textwidth]{test/tickmarks.pdf}"
      ],
      "text/plain": [
       "<tikzinpy.pdfshow.PDF at 0x7f69d790a438>"
      ]
     },
     "execution_count": 10,
     "metadata": {},
     "output_type": "execute_result"
    }
   ],
   "source": [
    "bshow(base, 'test/', 'tickmarks')"
   ]
  },
  {
   "cell_type": "markdown",
   "metadata": {},
   "source": [
    "## x and y-axis"
   ]
  },
  {
   "cell_type": "code",
   "execution_count": 11,
   "metadata": {},
   "outputs": [],
   "source": [
    "base = tip.tikzBase()\n",
    "\n",
    "base += tip.xaxis(0,4.9,0, align = 'below', label = '$x$', draw_opts = ['thin'], tickwidth = 4, tickalign = 'left')\n",
    "base += tip.yaxis(0,4.9,0, align = 'left', label = '$y$', draw_opts = ['thin'], tickwidth = 4, tickalign = 'left')\n"
   ]
  },
  {
   "cell_type": "code",
   "execution_count": 12,
   "metadata": {},
   "outputs": [
    {
     "data": {
      "text/html": [
       "<iframe src=test/xyaxis.pdf width=700 height=450></iframe>"
      ],
      "text/latex": [
       "\\includegraphics[width=1.0\\textwidth]{test/xyaxis.pdf}"
      ],
      "text/plain": [
       "<tikzinpy.pdfshow.PDF at 0x7f69d790aef0>"
      ]
     },
     "execution_count": 12,
     "metadata": {},
     "output_type": "execute_result"
    }
   ],
   "source": [
    "bshow(base, 'test/', 'xyaxis')"
   ]
  },
  {
   "cell_type": "markdown",
   "metadata": {},
   "source": [
    "# Scatter"
   ]
  },
  {
   "cell_type": "code",
   "execution_count": 4,
   "metadata": {},
   "outputs": [
    {
     "name": "stdout",
     "output_type": "stream",
     "text": [
      "Build error\n"
     ]
    },
    {
     "data": {
      "text/html": [
       "<iframe src=test/scatter.pdf width=700 height=450></iframe>"
      ],
      "text/latex": [
       "\\includegraphics[width=1.0\\textwidth]{test/scatter.pdf}"
      ],
      "text/plain": [
       "<tikzinpy.pdfshow.PDF at 0x7f7ee44419e8>"
      ]
     },
     "execution_count": 4,
     "metadata": {},
     "output_type": "execute_result"
    }
   ],
   "source": [
    "base = tip.tikzBase()\n",
    "\n",
    "base += tip.scatter(data_x, data_y, color = data_e, alpha = 1)\n",
    "base += tip.scatter(data_x, 0.2*data_y**2, color = 'blue', shape = 'hollow')\n",
    "\n",
    "bshow(base, 'test/', 'scatter')"
   ]
  },
  {
   "cell_type": "code",
   "execution_count": 14,
   "metadata": {},
   "outputs": [
    {
     "data": {
      "text/html": [
       "<iframe src=test/colorbar.pdf width=700 height=450></iframe>"
      ],
      "text/latex": [
       "\\includegraphics[width=1.0\\textwidth]{test/colorbar.pdf}"
      ],
      "text/plain": [
       "<tikzinpy.pdfshow.PDF at 0x7f69d77d6208>"
      ]
     },
     "execution_count": 14,
     "metadata": {},
     "output_type": "execute_result"
    }
   ],
   "source": [
    "base = tip.tikzBase()\n",
    "\n",
    "base += tip.scatter(data_x, data_y, color = data_e, alpha = 1)\n",
    "base += tip.scatter(data_x, 0.2*data_y**2, color = 'blue', shape = 'hollow')\n",
    "\n",
    "base += tip.point(-0.5,-0.5)\n",
    "base += tip.colors.colorbar(data_e, 'Spectral', step = 0.1, orientation = 'horizontal', width = 5, height = 0.2,\n",
    "                           x = -0.5, y = -0.5, fontsize = 'footnotesize', label = '$\\epsilon$')\n",
    "\n",
    "bshow(base, 'test/', 'colorbar')"
   ]
  },
  {
   "cell_type": "code",
   "execution_count": 36,
   "metadata": {},
   "outputs": [],
   "source": [
    "\n",
    "c,n = tip.get_cmap_and_normalizer('Spectral', 0, [1,2,3,4,5])"
   ]
  },
  {
   "cell_type": "code",
   "execution_count": 40,
   "metadata": {},
   "outputs": [
    {
     "data": {
      "text/plain": [
       "1.25"
      ]
     },
     "execution_count": 40,
     "metadata": {},
     "output_type": "execute_result"
    }
   ],
   "source": [
    "n(6)"
   ]
  },
  {
   "cell_type": "code",
   "execution_count": null,
   "metadata": {},
   "outputs": [],
   "source": []
  },
  {
   "cell_type": "code",
   "execution_count": 15,
   "metadata": {},
   "outputs": [
    {
     "data": {
      "text/plain": [
       "<tikzinpy.colors.colors.colorbar at 0x7f69d77cd9e8>"
      ]
     },
     "execution_count": 15,
     "metadata": {},
     "output_type": "execute_result"
    }
   ],
   "source": [
    "import tikzinpy.colors as tipc\n",
    "\n",
    "tipc.colorbar(data_e, 'Spectral')"
   ]
  },
  {
   "cell_type": "code",
   "execution_count": 16,
   "metadata": {},
   "outputs": [
    {
     "name": "stdout",
     "output_type": "stream",
     "text": [
      "\n",
      "        \\documentclass[tikz, border=2mm]{standalone}\n",
      "        \\usepackage{tikz}\n",
      "\\usepackage{pgfplots}\n",
      "            \\pgfplotsset{\n",
      "                colormap = {Spectral}{\n",
      "                    rgb=(0.6196,0.0039,0.2588)rgb=(0.6619,0.0508,0.2688)rgb=(0.6788,0.0696,0.2728)rgb=(0.6957,0.0884,0.2768)rgb=(0.7211,0.1165,0.2828)rgb=(0.7634,0.1634,0.2928)rgb=(0.7888,0.1915,0.2988)rgb=(0.8141,0.2197,0.3048)rgb=(0.8226,0.2291,0.3068)rgb=(0.8311,0.2384,0.3088)rgb=(0.8424,0.254,0.307)rgb=(0.8472,0.2612,0.3052)rgb=(0.871,0.2973,0.296)rgb=(0.914,0.3624,0.2794)rgb=(0.9187,0.3696,0.2775)rgb=(0.933,0.3913,0.272)rgb=(0.9426,0.4058,0.2683)rgb=(0.9521,0.4202,0.2646)rgb=(0.9569,0.4275,0.2627)rgb=(0.9652,0.4874,0.2904)rgb=(0.9804,0.5974,0.3412)rgb=(0.9845,0.6274,0.355)rgb=(0.9928,0.717,0.4095)rgb=(0.9942,0.7862,0.4676)rgb=(0.9947,0.8092,0.487)rgb=(0.995,0.8246,0.4999)rgb=(0.9953,0.84,0.5128)rgb=(0.9959,0.8707,0.5386)rgb=(0.997,0.907,0.5931)rgb=(0.9972,0.9118,0.6011)rgb=(0.9979,0.9356,0.6411)rgb=(0.9987,0.9595,0.681)rgb=(0.999,0.969,0.697)rgb=(0.9993,0.9785,0.713)rgb=(0.9981,0.9992,0.746)rgb=(0.9904,0.9962,0.734)rgb=(0.9827,0.9931,0.722)rgb=(0.9789,0.9915,0.716)rgb=(0.9673,0.9869,0.698)rgb=(0.9635,0.9854,0.692)rgb=(0.9443,0.9777,0.6621)rgb=(0.9404,0.9762,0.6561)rgb=(0.9327,0.9731,0.6441)rgb=(0.9212,0.9685,0.6261)rgb=(0.9135,0.9654,0.6141)rgb=(0.9097,0.9639,0.6081)rgb=(0.902,0.9608,0.5961)rgb=(0.8929,0.9571,0.5979)rgb=(0.8838,0.9534,0.5998)rgb=(0.8747,0.9497,0.6016)rgb=(0.8566,0.9423,0.6053)rgb=(0.8294,0.9313,0.6108)rgb=(0.8203,0.9276,0.6127)rgb=(0.784,0.9128,0.6201)rgb=(0.7568,0.9017,0.6256)rgb=(0.7386,0.8943,0.6293)rgb=(0.6933,0.8759,0.6385)rgb=(0.6751,0.8685,0.6422)rgb=(0.6547,0.8604,0.6434)rgb=(0.6441,0.8563,0.6435)rgb=(0.6334,0.8521,0.6437)rgb=(0.6228,0.848,0.6438)rgb=(0.5804,0.8314,0.6444)rgb=(0.5379,0.8148,0.6451)rgb=(0.4318,0.7732,0.6466)rgb=(0.4,0.7608,0.6471)rgb=(0.392,0.7519,0.6507)rgb=(0.2641,0.6092,0.7098)rgb=(0.2561,0.6002,0.7135)rgb=(0.2161,0.5556,0.7319)rgb=(0.2001,0.5378,0.7393)rgb=(0.213,0.5114,0.7308)rgb=(0.2333,0.4851,0.7183)rgb=(0.2604,0.4501,0.7017)rgb=(0.2874,0.415,0.6851)rgb=(0.3145,0.3799,0.6685)rgb=(0.328,0.3624,0.6602)rgb=(0.3348,0.3536,0.6561)rgb=(0.3483,0.3361,0.6478)rgb=(0.3686,0.3098,0.6353)\n",
      "                }\n",
      "            }\n",
      "        \n",
      "        \\begin{document}    \n",
      "            \\begin{tikzpicture}\n",
      "        \\node[color={rgb:red,0.9651672433679355;green,0.48742791234140703;blue,0.2904267589388696}, opacity=1] at (-2.0, -0.772) {\\normalsize \\textbullet};\n",
      "\\node[color={rgb:red,0.932718185313341;green,0.9730872741253365;blue,0.6440599769319494}, opacity=1] at (-1.919, -0.404) {\\normalsize \\textbullet};\n",
      "\\node[color={rgb:red,0.20007689350249905;green,0.5377931564782776;blue,0.7393310265282584}, opacity=1] at (-1.838, -0.048) {\\normalsize \\textbullet};\n",
      "\\node[color={rgb:red,0.21299500192233756;green,0.5114186851211072;blue,0.730795847750865}, opacity=1] at (-1.758, 0.004) {\\normalsize \\textbullet};\n",
      "\\node[color={rgb:red,0.3686274509803922;green,0.30980392156862746;blue,0.6352941176470588}, opacity=1] at (-1.677, 0.158) {\\normalsize \\textbullet};\n",
      "\\node[color={rgb:red,0.9928489042675894;green,0.716955017301038;blue,0.40945790080738165}, opacity=1] at (-1.596, -0.481) {\\normalsize \\textbullet};\n",
      "\\node[color={rgb:red,0.2560553633217993;green,0.6002306805074971;blue,0.7134948096885814}, opacity=1] at (-1.515, 0.088) {\\normalsize \\textbullet};\n",
      "\\node[color={rgb:red,0.9946943483275663;green,0.8092272202998846;blue,0.48696655132641287}, opacity=1] at (-1.434, -0.357) {\\normalsize \\textbullet};\n",
      "\\node[color={rgb:red,0.9950019223375625;green,0.8246059207996924;blue,0.4998846597462514}, opacity=1] at (-1.354, -0.306) {\\normalsize \\textbullet};\n",
      "\\node[color={rgb:red,0.6788158400615149;green,0.06958861976163014;blue,0.2728181468665898}, opacity=1] at (-1.273, -0.598) {\\normalsize \\textbullet};\n",
      "\\node[color={rgb:red,0.9673202614379085;green,0.9869281045751634;blue,0.6980392156862746}, opacity=1] at (-1.192, -0.074) {\\normalsize \\textbullet};\n",
      "\\node[color={rgb:red,0.7567858515955403;green,0.9017301038062285;blue,0.6256055363321799}, opacity=1] at (-1.111, 0.09) {\\normalsize \\textbullet};\n",
      "\\node[color={rgb:red,0.9903883121876201;green,0.9961553248750481;blue,0.7340253748558248}, opacity=1] at (-1.03, -0.016) {\\normalsize \\textbullet};\n",
      "\\node[color={rgb:red,0.8310649750096117;green,0.23844675124951936;blue,0.30880430603613995}, opacity=1] at (-0.949, -0.368) {\\normalsize \\textbullet};\n",
      "\\node[color={rgb:red,0.9986928104575163;green,0.9594771241830066;blue,0.681045751633987}, opacity=1] at (-0.869, 0.027) {\\normalsize \\textbullet};\n",
      "\\node[color={rgb:red,0.6196078431372549;green,0.00392156862745098;blue,0.25882352941176473}, opacity=1] at (-0.788, -0.382) {\\normalsize \\textbullet};\n",
      "\\node[color={rgb:red,0.6196078431372549;green,0.00392156862745098;blue,0.25882352941176473}, opacity=1] at (-0.707, -0.346) {\\normalsize \\textbullet};\n",
      "\\node[color={rgb:red,0.998077662437524;green,0.9992310649750096;blue,0.7460207612456747}, opacity=1] at (-0.626, 0.181) {\\normalsize \\textbullet};\n",
      "\\node[color={rgb:red,0.9803921568627452;green,0.5973856209150326;blue,0.34117647058823525}, opacity=1] at (-0.545, -0.004) {\\normalsize \\textbullet};\n",
      "\\node[color={rgb:red,0.4;green,0.7607843137254902;blue,0.6470588235294118}, opacity=1] at (-0.465, 0.546) {\\normalsize \\textbullet};\n",
      "\\node[color={rgb:red,0.6618992695117263;green,0.050826605151864664;blue,0.26881968473663975}, opacity=1] at (-0.384, -0.161) {\\normalsize \\textbullet};\n",
      "\\node[color={rgb:red,0.5379469434832758;green,0.8147635524798155;blue,0.6450595924644368}, opacity=1] at (-0.303, 0.576) {\\normalsize \\textbullet};\n",
      "\\node[color={rgb:red,0.7633986928104575;green,0.1633986928104575;blue,0.2928104575163399}, opacity=1] at (-0.222, -0.034) {\\normalsize \\textbullet};\n",
      "\\node[color={rgb:red,0.6751249519415612;green,0.8685121107266437;blue,0.6422145328719723}, opacity=1] at (-0.141, 0.611) {\\normalsize \\textbullet};\n",
      "\\node[color={rgb:red,0.9211841599384853;green,0.9684736639753941;blue,0.6260668973471745}, opacity=1] at (-0.061, 0.537) {\\normalsize \\textbullet};\n",
      "\\node[color={rgb:red,0.9979238754325259;green,0.9356401384083044;blue,0.6410611303344866}, opacity=1] at (0.02, 0.45) {\\normalsize \\textbullet};\n",
      "\\node[color={rgb:red,0.9568627450980393;green,0.42745098039215684;blue,0.2627450980392157}, opacity=1] at (0.101, 0.255) {\\normalsize \\textbullet};\n",
      "\\node[color={rgb:red,0.9826989619377164;green,0.9930795847750865;blue,0.7220299884659749}, opacity=1] at (0.182, 0.6) {\\normalsize \\textbullet};\n",
      "\\node[color={rgb:red,0.9953094963475586;green,0.8399846212995001;blue,0.5128027681660899}, opacity=1] at (0.263, 0.51) {\\normalsize \\textbullet};\n",
      "\\node[color={rgb:red,0.9634755863129566;green,0.9853902345251826;blue,0.6920415224913495}, opacity=1] at (0.343, 0.698) {\\normalsize \\textbullet};\n",
      "\\node[color={rgb:red,0.20007689350249905;green,0.5377931564782776;blue,0.7393310265282584}, opacity=1] at (0.424, 1.082) {\\normalsize \\textbullet};\n",
      "\\node[color={rgb:red,0.9139561707035756;green,0.36239907727797;blue,0.27935409457900806}, opacity=1] at (0.505, 0.421) {\\normalsize \\textbullet};\n",
      "\\node[color={rgb:red,0.6334486735870821;green,0.8521337946943485;blue,0.6436755094194541}, opacity=1] at (0.586, 0.99) {\\normalsize \\textbullet};\n",
      "\\node[color={rgb:red,0.3686274509803922;green,0.30980392156862746;blue,0.6352941176470588}, opacity=1] at (0.667, 1.308) {\\normalsize \\textbullet};\n",
      "\\node[color={rgb:red,0.3686274509803922;green,0.30980392156862746;blue,0.6352941176470588}, opacity=1] at (0.747, 1.346) {\\normalsize \\textbullet};\n",
      "\\node[color={rgb:red,0.9971549404075356;green,0.9118031526336025;blue,0.6010765090349866}, opacity=1] at (0.828, 0.835) {\\normalsize \\textbullet};\n",
      "\\node[color={rgb:red,0.942560553633218;green,0.4057670126874279;blue,0.2682814302191465}, opacity=1] at (0.909, 0.649) {\\normalsize \\textbullet};\n",
      "\\node[color={rgb:red,0.9993079584775086;green,0.9785467128027682;blue,0.7130334486735871}, opacity=1] at (0.99, 0.97) {\\normalsize \\textbullet};\n",
      "\\node[color={rgb:red,0.6546712802768171;green,0.8604382929642448;blue,0.6433679354094579}, opacity=1] at (1.071, 1.223) {\\normalsize \\textbullet};\n",
      "\\node[color={rgb:red,0.8928873510188392;green,0.9570934256055365;blue,0.5979238754325259}, opacity=1] at (1.152, 1.168) {\\normalsize \\textbullet};\n",
      "\\node[color={rgb:red,0.9942329873125721;green,0.7861591695501728;blue,0.46758938869665495}, opacity=1] at (1.232, 0.967) {\\normalsize \\textbullet};\n",
      "\\node[color={rgb:red,0.7840061514802001;green,0.9128027681660901;blue,0.6200692041522491}, opacity=1] at (1.313, 1.293) {\\normalsize \\textbullet};\n",
      "\\node[color={rgb:red,0.7386389850057672;green,0.8943483275663208;blue,0.6292964244521337}, opacity=1] at (1.394, 1.351) {\\normalsize \\textbullet};\n",
      "\\node[color={rgb:red,0.9826989619377164;green,0.9930795847750865;blue,0.7220299884659749}, opacity=1] at (1.475, 1.245) {\\normalsize \\textbullet};\n",
      "\\node[color={rgb:red,0.8565936178392929;green,0.942329873125721;blue,0.6053056516724337}, opacity=1] at (1.556, 1.383) {\\normalsize \\textbullet};\n",
      "\\node[color={rgb:red,0.6932718185313343;green,0.8758938869665515;blue,0.6385236447520184}, opacity=1] at (1.636, 1.491) {\\normalsize \\textbullet};\n",
      "\\node[color={rgb:red,0.2874279123414072;green,0.4149942329873126;blue,0.6851211072664359}, opacity=1] at (1.717, 1.784) {\\normalsize \\textbullet};\n",
      "\\node[color={rgb:red,0.8424452133794694;green,0.25397923875432526;blue,0.3070357554786621}, opacity=1] at (1.798, 1.012) {\\normalsize \\textbullet};\n",
      "\\node[color={rgb:red,0.6228373702422147;green,0.8479815455594003;blue,0.6438292964244522}, opacity=1] at (1.879, 1.638) {\\normalsize \\textbullet};\n",
      "\\node[color={rgb:red,0.940407535563245;green,0.976163014225298;blue,0.6560553633217994}, opacity=1] at (1.96, 1.527) {\\normalsize \\textbullet};\n",
      "\\node[color={rgb:red,0.34832756632064593;green,0.33610149942329876;blue,0.647750865051903}, opacity=1] at (2.04, 1.977) {\\normalsize \\textbullet};\n",
      "\\node[color={rgb:red,0.9845444059976932;green,0.6273740868896577;blue,0.3550173010380622}, opacity=1] at (2.121, 1.34) {\\normalsize \\textbullet};\n",
      "\\node[color={rgb:red,0.6957324106113034;green,0.08835063437139562;blue,0.2768166089965398}, opacity=1] at (2.202, 1.147) {\\normalsize \\textbullet};\n",
      "\\node[color={rgb:red,0.8710495963091118;green,0.2973471741637831;blue,0.2959630911188005}, opacity=1] at (2.283, 1.28) {\\normalsize \\textbullet};\n",
      "\\node[color={rgb:red,0.9330257593233372;green,0.3913110342176086;blue,0.27197231833910035}, opacity=1] at (2.364, 1.369) {\\normalsize \\textbullet};\n",
      "\\node[color={rgb:red,0.8293733179546331;green,0.9312572087658594;blue,0.6108419838523644}, opacity=1] at (2.444, 1.839) {\\normalsize \\textbullet};\n",
      "\\node[color={rgb:red,0.8838139177239526;green,0.9534025374855826;blue,0.5997693194925028}, opacity=1] at (2.525, 1.858) {\\normalsize \\textbullet};\n",
      "\\node[color={rgb:red,0.39200307574009996;green,0.7518646674356017;blue,0.6507497116493657}, opacity=1] at (2.606, 2.084) {\\normalsize \\textbullet};\n",
      "\\node[color={rgb:red,0.7211072664359862;green,0.11649365628604381;blue,0.28281430219146486}, opacity=1] at (2.687, 1.401) {\\normalsize \\textbullet};\n",
      "\\node[color={rgb:red,0.2332948865820838;green,0.485121107266436;blue,0.7183391003460208}, opacity=1] at (2.768, 2.278) {\\normalsize \\textbullet};\n",
      "\\node[color={rgb:red,0.31449442522106885;green,0.37993079584775086;blue,0.6685121107266436}, opacity=1] at (2.848, 2.363) {\\normalsize \\textbullet};\n",
      "\\node[color={rgb:red,0.3347943098808151;green,0.35363321799307956;blue,0.6560553633217993}, opacity=1] at (2.929, 2.415) {\\normalsize \\textbullet};\n",
      "\\node[color={rgb:red,0.9187235678585159;green,0.3696270665128797;blue,0.2775086505190312}, opacity=1] at (3.01, 1.678) {\\normalsize \\textbullet};\n",
      "\\node[color={rgb:red,0.6196078431372549;green,0.00392156862745098;blue,0.25882352941176473}, opacity=1] at (3.091, 1.553) {\\normalsize \\textbullet};\n",
      "\\node[color={rgb:red,0.8202998846597465;green,0.9275663206459055;blue,0.6126874279123413}, opacity=1] at (3.172, 2.204) {\\normalsize \\textbullet};\n",
      "\\node[color={rgb:red,0.3686274509803922;green,0.30980392156862746;blue,0.6352941176470588}, opacity=1] at (3.253, 2.603) {\\normalsize \\textbullet};\n",
      "\\node[color={rgb:red,0.6751249519415612;green,0.8685121107266437;blue,0.6422145328719723}, opacity=1] at (3.333, 2.347) {\\normalsize \\textbullet};\n",
      "\\node[color={rgb:red,0.26405228758169935;green,0.6091503267973857;blue,0.7098039215686275}, opacity=1] at (3.414, 2.549) {\\normalsize \\textbullet};\n",
      "\\node[color={rgb:red,0.8565936178392929;green,0.942329873125721;blue,0.6053056516724337}, opacity=1] at (3.495, 2.352) {\\normalsize \\textbullet};\n",
      "\\node[color={rgb:red,0.9990003844675125;green,0.9690119184928874;blue,0.697039600153787}, opacity=1] at (3.576, 2.255) {\\normalsize \\textbullet};\n",
      "\\node[color={rgb:red,0.9096501345636295;green,0.9638600538254518;blue,0.6080738177623992}, opacity=1] at (3.657, 2.409) {\\normalsize \\textbullet};\n",
      "\\node[color={rgb:red,0.9803921568627452;green,0.5973856209150326;blue,0.34117647058823525}, opacity=1] at (3.737, 2.137) {\\normalsize \\textbullet};\n",
      "\\node[color={rgb:red,0.3686274509803922;green,0.30980392156862746;blue,0.6352941176470588}, opacity=1] at (3.818, 2.899) {\\normalsize \\textbullet};\n",
      "\\node[color={rgb:red,0.6196078431372549;green,0.00392156862745098;blue,0.25882352941176473}, opacity=1] at (3.899, 1.956) {\\normalsize \\textbullet};\n",
      "\\node[color={rgb:red,0.9993079584775086;green,0.9785467128027682;blue,0.7130334486735871}, opacity=1] at (3.98, 2.465) {\\normalsize \\textbullet};\n",
      "\\node[color={rgb:red,0.9134948096885814;green,0.9653979238754326;blue,0.6140715109573243}, opacity=1] at (4.061, 2.606) {\\normalsize \\textbullet};\n",
      "\\node[color={rgb:red,0.8141484044598232;green,0.2196847366397539;blue,0.3048058439061899}, opacity=1] at (4.141, 2.169) {\\normalsize \\textbullet};\n",
      "\\node[color={rgb:red,0.3280276816608997;green,0.36239907727797005;blue,0.6602076124567474}, opacity=1] at (4.222, 3.057) {\\normalsize \\textbullet};\n",
      "\\node[color={rgb:red,0.2603613994617455;green,0.45005767012687425;blue,0.7017301038062284}, opacity=1] at (4.303, 3.061) {\\normalsize \\textbullet};\n",
      "\\node[color={rgb:red,0.5803921568627453;green,0.8313725490196079;blue,0.6444444444444445}, opacity=1] at (4.384, 2.907) {\\normalsize \\textbullet};\n",
      "\\node[color={rgb:red,0.2603613994617455;green,0.45005767012687425;blue,0.7017301038062284}, opacity=1] at (4.465, 3.141) {\\normalsize \\textbullet};\n",
      "\\node[color={rgb:red,0.7887735486351404;green,0.19154171472510573;blue,0.29880815071126493}, opacity=1] at (4.545, 2.361) {\\normalsize \\textbullet};\n",
      "\\node[color={rgb:red,0.8472126105344099;green,0.2612072279892349;blue,0.30519031141868513}, opacity=1] at (4.626, 2.432) {\\normalsize \\textbullet};\n",
      "\\node[color={rgb:red,0.7567858515955403;green,0.9017301038062285;blue,0.6256055363321799}, opacity=1] at (4.707, 2.999) {\\normalsize \\textbullet};\n",
      "\\node[color={rgb:red,0.9970011534025375;green,0.907035755478662;blue,0.5930795847750865}, opacity=1] at (4.788, 2.813) {\\normalsize \\textbullet};\n",
      "\\node[color={rgb:red,0.21607074202229912;green,0.5556324490580546;blue,0.7319492502883507}, opacity=1] at (4.869, 3.299) {\\normalsize \\textbullet};\n",
      "\\node[color={rgb:red,0.9928489042675894;green,0.716955017301038;blue,0.40945790080738165}, opacity=1] at (4.949, 2.792) {\\normalsize \\textbullet};\n",
      "\\node[color={rgb:red,0.43183391003460214;green,0.7732410611303344;blue,0.6465974625144175}, opacity=1] at (5.03, 3.283) {\\normalsize \\textbullet};\n",
      "\\node[color={rgb:red,0.8226066897347175;green,0.22906574394463664;blue,0.30680507497116494}, opacity=1] at (5.111, 2.657) {\\normalsize \\textbullet};\n",
      "\\node[color={rgb:red,0.6196078431372549;green,0.00392156862745098;blue,0.25882352941176473}, opacity=1] at (5.192, 2.604) {\\normalsize \\textbullet};\n",
      "\\node[color={rgb:red,0.3686274509803922;green,0.30980392156862746;blue,0.6352941176470588}, opacity=1] at (5.273, 3.607) {\\normalsize \\textbullet};\n",
      "\\node[color={rgb:red,0.9520953479430989;green,0.4202229911572472;blue,0.26459054209919264}, opacity=1] at (5.354, 2.879) {\\normalsize \\textbullet};\n",
      "\\node[color={rgb:red,0.874740484429066;green,0.9497116493656287;blue,0.6016147635524798}, opacity=1] at (5.434, 3.316) {\\normalsize \\textbullet};\n",
      "\\node[color={rgb:red,0.9845444059976932;green,0.6273740868896577;blue,0.3550173010380622}, opacity=1] at (5.515, 3.036) {\\normalsize \\textbullet};\n",
      "\\node[color={rgb:red,0.9959246443675509;green,0.8707420222991157;blue,0.5386389850057669}, opacity=1] at (5.596, 3.19) {\\normalsize \\textbullet};\n",
      "\\node[color={rgb:red,0.6196078431372549;green,0.00392156862745098;blue,0.25882352941176473}, opacity=1] at (5.677, 2.843) {\\normalsize \\textbullet};\n",
      "\\node[color={rgb:red,0.9788542868127643;green,0.9915417147251058;blue,0.7160322952710496}, opacity=1] at (5.758, 3.389) {\\normalsize \\textbullet};\n",
      "\\node[color={rgb:red,0.9019607843137256;green,0.9607843137254902;blue,0.5960784313725491}, opacity=1] at (5.838, 3.506) {\\normalsize \\textbullet};\n",
      "\\node[color={rgb:red,0.944252210688197;green,0.9777008842752788;blue,0.6620530565167244}, opacity=1] at (5.919, 3.505) {\\normalsize \\textbullet};\n",
      "\\node[color={rgb:red,0.6440599769319495;green,0.8562860438292965;blue,0.643521722414456}, opacity=1] at (6.0, 3.692) {\\normalsize \\textbullet};\n",
      "\\node[blue, opacity=1] at (-2.0, 0.119) {\\normalsize $\\circ$};\n",
      "\\node[blue, opacity=1] at (-1.919, 0.033) {\\normalsize $\\circ$};\n",
      "\\node[blue, opacity=1] at (-1.838, 0.0) {\\normalsize $\\circ$};\n",
      "\\node[blue, opacity=1] at (-1.758, 0.0) {\\normalsize $\\circ$};\n",
      "\\node[blue, opacity=1] at (-1.677, 0.005) {\\normalsize $\\circ$};\n",
      "\\node[blue, opacity=1] at (-1.596, 0.046) {\\normalsize $\\circ$};\n",
      "\\node[blue, opacity=1] at (-1.515, 0.002) {\\normalsize $\\circ$};\n",
      "\\node[blue, opacity=1] at (-1.434, 0.025) {\\normalsize $\\circ$};\n",
      "\\node[blue, opacity=1] at (-1.354, 0.019) {\\normalsize $\\circ$};\n",
      "\\node[blue, opacity=1] at (-1.273, 0.071) {\\normalsize $\\circ$};\n",
      "\\node[blue, opacity=1] at (-1.192, 0.001) {\\normalsize $\\circ$};\n",
      "\\node[blue, opacity=1] at (-1.111, 0.002) {\\normalsize $\\circ$};\n",
      "\\node[blue, opacity=1] at (-1.03, 0.0) {\\normalsize $\\circ$};\n",
      "\\node[blue, opacity=1] at (-0.949, 0.027) {\\normalsize $\\circ$};\n",
      "\\node[blue, opacity=1] at (-0.869, 0.0) {\\normalsize $\\circ$};\n",
      "\\node[blue, opacity=1] at (-0.788, 0.029) {\\normalsize $\\circ$};\n",
      "\\node[blue, opacity=1] at (-0.707, 0.024) {\\normalsize $\\circ$};\n",
      "\\node[blue, opacity=1] at (-0.626, 0.007) {\\normalsize $\\circ$};\n",
      "\\node[blue, opacity=1] at (-0.545, 0.0) {\\normalsize $\\circ$};\n",
      "\\node[blue, opacity=1] at (-0.465, 0.06) {\\normalsize $\\circ$};\n",
      "\\node[blue, opacity=1] at (-0.384, 0.005) {\\normalsize $\\circ$};\n",
      "\\node[blue, opacity=1] at (-0.303, 0.066) {\\normalsize $\\circ$};\n",
      "\\node[blue, opacity=1] at (-0.222, 0.0) {\\normalsize $\\circ$};\n",
      "\\node[blue, opacity=1] at (-0.141, 0.075) {\\normalsize $\\circ$};\n",
      "\\node[blue, opacity=1] at (-0.061, 0.058) {\\normalsize $\\circ$};\n",
      "\\node[blue, opacity=1] at (0.02, 0.04) {\\normalsize $\\circ$};\n",
      "\\node[blue, opacity=1] at (0.101, 0.013) {\\normalsize $\\circ$};\n",
      "\\node[blue, opacity=1] at (0.182, 0.072) {\\normalsize $\\circ$};\n",
      "\\node[blue, opacity=1] at (0.263, 0.052) {\\normalsize $\\circ$};\n",
      "\\node[blue, opacity=1] at (0.343, 0.097) {\\normalsize $\\circ$};\n",
      "\\node[blue, opacity=1] at (0.424, 0.234) {\\normalsize $\\circ$};\n",
      "\\node[blue, opacity=1] at (0.505, 0.036) {\\normalsize $\\circ$};\n",
      "\\node[blue, opacity=1] at (0.586, 0.196) {\\normalsize $\\circ$};\n",
      "\\node[blue, opacity=1] at (0.667, 0.342) {\\normalsize $\\circ$};\n",
      "\\node[blue, opacity=1] at (0.747, 0.362) {\\normalsize $\\circ$};\n",
      "\\node[blue, opacity=1] at (0.828, 0.14) {\\normalsize $\\circ$};\n",
      "\\node[blue, opacity=1] at (0.909, 0.084) {\\normalsize $\\circ$};\n",
      "\\node[blue, opacity=1] at (0.99, 0.188) {\\normalsize $\\circ$};\n",
      "\\node[blue, opacity=1] at (1.071, 0.299) {\\normalsize $\\circ$};\n",
      "\\node[blue, opacity=1] at (1.152, 0.273) {\\normalsize $\\circ$};\n",
      "\\node[blue, opacity=1] at (1.232, 0.187) {\\normalsize $\\circ$};\n",
      "\\node[blue, opacity=1] at (1.313, 0.334) {\\normalsize $\\circ$};\n",
      "\\node[blue, opacity=1] at (1.394, 0.365) {\\normalsize $\\circ$};\n",
      "\\node[blue, opacity=1] at (1.475, 0.31) {\\normalsize $\\circ$};\n",
      "\\node[blue, opacity=1] at (1.556, 0.383) {\\normalsize $\\circ$};\n",
      "\\node[blue, opacity=1] at (1.636, 0.445) {\\normalsize $\\circ$};\n",
      "\\node[blue, opacity=1] at (1.717, 0.636) {\\normalsize $\\circ$};\n",
      "\\node[blue, opacity=1] at (1.798, 0.205) {\\normalsize $\\circ$};\n",
      "\\node[blue, opacity=1] at (1.879, 0.537) {\\normalsize $\\circ$};\n",
      "\\node[blue, opacity=1] at (1.96, 0.467) {\\normalsize $\\circ$};\n",
      "\\node[blue, opacity=1] at (2.04, 0.782) {\\normalsize $\\circ$};\n",
      "\\node[blue, opacity=1] at (2.121, 0.359) {\\normalsize $\\circ$};\n",
      "\\node[blue, opacity=1] at (2.202, 0.263) {\\normalsize $\\circ$};\n",
      "\\node[blue, opacity=1] at (2.283, 0.328) {\\normalsize $\\circ$};\n",
      "\\node[blue, opacity=1] at (2.364, 0.375) {\\normalsize $\\circ$};\n",
      "\\node[blue, opacity=1] at (2.444, 0.676) {\\normalsize $\\circ$};\n",
      "\\node[blue, opacity=1] at (2.525, 0.691) {\\normalsize $\\circ$};\n",
      "\\node[blue, opacity=1] at (2.606, 0.869) {\\normalsize $\\circ$};\n",
      "\\node[blue, opacity=1] at (2.687, 0.393) {\\normalsize $\\circ$};\n",
      "\\node[blue, opacity=1] at (2.768, 1.038) {\\normalsize $\\circ$};\n",
      "\\node[blue, opacity=1] at (2.848, 1.117) {\\normalsize $\\circ$};\n",
      "\\node[blue, opacity=1] at (2.929, 1.166) {\\normalsize $\\circ$};\n",
      "\\node[blue, opacity=1] at (3.01, 0.563) {\\normalsize $\\circ$};\n",
      "\\node[blue, opacity=1] at (3.091, 0.482) {\\normalsize $\\circ$};\n",
      "\\node[blue, opacity=1] at (3.172, 0.972) {\\normalsize $\\circ$};\n",
      "\\node[blue, opacity=1] at (3.253, 1.355) {\\normalsize $\\circ$};\n",
      "\\node[blue, opacity=1] at (3.333, 1.102) {\\normalsize $\\circ$};\n",
      "\\node[blue, opacity=1] at (3.414, 1.299) {\\normalsize $\\circ$};\n",
      "\\node[blue, opacity=1] at (3.495, 1.107) {\\normalsize $\\circ$};\n",
      "\\node[blue, opacity=1] at (3.576, 1.017) {\\normalsize $\\circ$};\n",
      "\\node[blue, opacity=1] at (3.657, 1.16) {\\normalsize $\\circ$};\n",
      "\\node[blue, opacity=1] at (3.737, 0.913) {\\normalsize $\\circ$};\n",
      "\\node[blue, opacity=1] at (3.818, 1.68) {\\normalsize $\\circ$};\n",
      "\\node[blue, opacity=1] at (3.899, 0.765) {\\normalsize $\\circ$};\n",
      "\\node[blue, opacity=1] at (3.98, 1.215) {\\normalsize $\\circ$};\n",
      "\\node[blue, opacity=1] at (4.061, 1.359) {\\normalsize $\\circ$};\n",
      "\\node[blue, opacity=1] at (4.141, 0.941) {\\normalsize $\\circ$};\n",
      "\\node[blue, opacity=1] at (4.222, 1.869) {\\normalsize $\\circ$};\n",
      "\\node[blue, opacity=1] at (4.303, 1.874) {\\normalsize $\\circ$};\n",
      "\\node[blue, opacity=1] at (4.384, 1.69) {\\normalsize $\\circ$};\n",
      "\\node[blue, opacity=1] at (4.465, 1.974) {\\normalsize $\\circ$};\n",
      "\\node[blue, opacity=1] at (4.545, 1.115) {\\normalsize $\\circ$};\n",
      "\\node[blue, opacity=1] at (4.626, 1.183) {\\normalsize $\\circ$};\n",
      "\\node[blue, opacity=1] at (4.707, 1.799) {\\normalsize $\\circ$};\n",
      "\\node[blue, opacity=1] at (4.788, 1.583) {\\normalsize $\\circ$};\n",
      "\\node[blue, opacity=1] at (4.869, 2.177) {\\normalsize $\\circ$};\n",
      "\\node[blue, opacity=1] at (4.949, 1.559) {\\normalsize $\\circ$};\n",
      "\\node[blue, opacity=1] at (5.03, 2.155) {\\normalsize $\\circ$};\n",
      "\\node[blue, opacity=1] at (5.111, 1.412) {\\normalsize $\\circ$};\n",
      "\\node[blue, opacity=1] at (5.192, 1.356) {\\normalsize $\\circ$};\n",
      "\\node[blue, opacity=1] at (5.273, 2.602) {\\normalsize $\\circ$};\n",
      "\\node[blue, opacity=1] at (5.354, 1.658) {\\normalsize $\\circ$};\n",
      "\\node[blue, opacity=1] at (5.434, 2.199) {\\normalsize $\\circ$};\n",
      "\\node[blue, opacity=1] at (5.515, 1.843) {\\normalsize $\\circ$};\n",
      "\\node[blue, opacity=1] at (5.596, 2.035) {\\normalsize $\\circ$};\n",
      "\\node[blue, opacity=1] at (5.677, 1.617) {\\normalsize $\\circ$};\n",
      "\\node[blue, opacity=1] at (5.758, 2.297) {\\normalsize $\\circ$};\n",
      "\\node[blue, opacity=1] at (5.838, 2.458) {\\normalsize $\\circ$};\n",
      "\\node[blue, opacity=1] at (5.919, 2.458) {\\normalsize $\\circ$};\n",
      "\\node[blue, opacity=1] at (6.0, 2.726) {\\normalsize $\\circ$};\n",
      "\\node[black, opacity=1] at (-0.5, -0.5) {\\normalsize \\textbullet};\n",
      "\n",
      "        \\begin{axis}[\n",
      "            at = {(-0.5cm,-0.5cm)},\n",
      "            hide axis,\n",
      "            scale only axis,\n",
      "            height=0pt,\n",
      "            width=0pt, \n",
      "            colorbar horizontal,\n",
      "            point meta min=0,\n",
      "            point meta max=0.9,\n",
      "            colorbar style={\n",
      "                title = ,\n",
      "                opacity=1,\n",
      "                samples=10,\n",
      "                xlabel = $\\epsilon$,\n",
      "                width=5cm,\n",
      "                height=0.2cm,\n",
      "                xtick={0,0.1,0.2,0.3,0.4,0.5,0.6,0.7,0.8,0.9},\n",
      "                tick label style={font=\\footnotesize},\n",
      "                label style={font=\\footnotesize},\n",
      "                title style={font=\\footnotesize}\n",
      "            }]\n",
      "            \\addplot [draw=none] coordinates {(0,0)};\n",
      "        \\end{axis}\n",
      "        \n",
      "            \\end{tikzpicture}\n",
      "        \\end{document}\n",
      "        \n"
     ]
    }
   ],
   "source": [
    "print(base.figure)"
   ]
  },
  {
   "cell_type": "code",
   "execution_count": 17,
   "metadata": {},
   "outputs": [],
   "source": [
    "\n",
    "import matplotlib.pyplot as plt\n",
    "from matplotlib.colors import Normalize\n",
    "\n",
    "\n",
    "cmap = plt.cm.get_cmap('Spectral')\n",
    "norm = Normalize(vmin=0, vmax=1)\n"
   ]
  },
  {
   "cell_type": "code",
   "execution_count": 18,
   "metadata": {},
   "outputs": [
    {
     "data": {
      "text/plain": [
       "(0.6280661284121491, 0.013302575932333718, 0.26082276047673975, 1.0)"
      ]
     },
     "execution_count": 18,
     "metadata": {},
     "output_type": "execute_result"
    }
   ],
   "source": [
    "cmap(1)"
   ]
  },
  {
   "cell_type": "code",
   "execution_count": 19,
   "metadata": {},
   "outputs": [
    {
     "data": {
      "text/plain": [
       "(0.3686274509803922, 0.30980392156862746, 0.6352941176470588, 1.0)"
      ]
     },
     "execution_count": 19,
     "metadata": {},
     "output_type": "execute_result"
    }
   ],
   "source": [
    "plt.cm.ScalarMappable(norm=norm, cmap=cmap).to_rgba(1)"
   ]
  },
  {
   "cell_type": "code",
   "execution_count": 20,
   "metadata": {},
   "outputs": [
    {
     "data": {
      "text/plain": [
       "(0.3686274509803922, 0.30980392156862746, 0.6352941176470588, 1.0)"
      ]
     },
     "execution_count": 20,
     "metadata": {},
     "output_type": "execute_result"
    }
   ],
   "source": [
    "cmap(norm(1))"
   ]
  },
  {
   "cell_type": "code",
   "execution_count": null,
   "metadata": {},
   "outputs": [],
   "source": []
  }
 ],
 "metadata": {
  "kernelspec": {
   "display_name": "Python 3",
   "language": "python",
   "name": "python3"
  },
  "language_info": {
   "codemirror_mode": {
    "name": "ipython",
    "version": 3
   },
   "file_extension": ".py",
   "mimetype": "text/x-python",
   "name": "python",
   "nbconvert_exporter": "python",
   "pygments_lexer": "ipython3",
   "version": "3.7.3"
  }
 },
 "nbformat": 4,
 "nbformat_minor": 2
}
