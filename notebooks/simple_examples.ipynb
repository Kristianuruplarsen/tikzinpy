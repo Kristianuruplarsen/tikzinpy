{
 "cells": [
  {
   "cell_type": "code",
   "execution_count": 1,
   "metadata": {},
   "outputs": [],
   "source": [
    "import tikzinpy as tip\n",
    "from tikzinpy import bshow #build and show\n",
    "\n",
    "import seaborn as sns \n",
    "import numpy as np \n",
    "import matplotlib.pyplot as plt \n",
    "\n",
    "data = sns.load_dataset('iris')\n",
    "\n",
    "# This is just some data to test with\n",
    "data_x = np.linspace(-2, 6, 100)\n",
    "data_e = np.random.uniform(0,1, size = 100)\n",
    "data_y = 0.5*data_x + data_e"
   ]
  },
  {
   "cell_type": "code",
   "execution_count": 2,
   "metadata": {},
   "outputs": [],
   "source": [
    "x = data.sepal_length\n",
    "y = data.sepal_width\n",
    "color = data.petal_length"
   ]
  },
  {
   "cell_type": "markdown",
   "metadata": {},
   "source": [
    "# Basic elements"
   ]
  },
  {
   "cell_type": "code",
   "execution_count": 3,
   "metadata": {},
   "outputs": [
    {
     "name": "stdout",
     "output_type": "stream",
     "text": [
      "plot[];\n",
      "plot[asd];\n",
      "\\node[asd];\n",
      "node[asd];\n",
      "\\node[asd] (0, 0) {dsa};\n"
     ]
    }
   ],
   "source": [
    "print(tip.elements.tikzCommand().plot().string)\n",
    "print(tip.elements.tikzCommand().plot('asd').string)\n",
    "print(tip.elements.tikzCommand().node('asd').string)\n",
    "print(tip.elements.tikzCommand().node('asd', backslash = False).string)\n",
    "\n",
    "print(tip.elements.tikzCommand().node('asd').coordinate2d(0,0).label('dsa').string)"
   ]
  },
  {
   "cell_type": "markdown",
   "metadata": {},
   "source": [
    "# Point"
   ]
  },
  {
   "cell_type": "code",
   "execution_count": 4,
   "metadata": {},
   "outputs": [
    {
     "name": "stdout",
     "output_type": "stream",
     "text": [
      "0\n"
     ]
    },
    {
     "data": {
      "text/html": [
       "<iframe src=test/point.pdf width=700 height=450></iframe>"
      ],
      "text/latex": [
       "\\includegraphics[width=1.0\\textwidth]{test/point.pdf}"
      ],
      "text/plain": [
       "<tikzinpy.pdfshow.PDF at 0x7f2e85005c50>"
      ]
     },
     "execution_count": 4,
     "metadata": {},
     "output_type": "execute_result"
    }
   ],
   "source": [
    "base = tip.tikzBase()\n",
    "\n",
    "base += tip.point(0,0)\n",
    "base += tip.point(1,1, color = 'red', shape = 'hollow', size = 'Huge')\n",
    "base += tip.point(-1,-1, color = 'blue', shape = 'fill', alpha = 0.5, size = 'Large')\n",
    "base += tip.point(1,0, color = 'orange', shape = 'fill', alpha = 1, size = 'Huge')\n",
    "\n",
    "bshow(base, 'test/', 'point')"
   ]
  },
  {
   "cell_type": "markdown",
   "metadata": {},
   "source": [
    "# Lines"
   ]
  },
  {
   "cell_type": "code",
   "execution_count": 5,
   "metadata": {},
   "outputs": [
    {
     "name": "stdout",
     "output_type": "stream",
     "text": [
      "0\n"
     ]
    },
    {
     "data": {
      "text/html": [
       "<iframe src=test/line.pdf width=700 height=450></iframe>"
      ],
      "text/latex": [
       "\\includegraphics[width=1.0\\textwidth]{test/line.pdf}"
      ],
      "text/plain": [
       "<tikzinpy.pdfshow.PDF at 0x7f2e8132cbe0>"
      ]
     },
     "execution_count": 5,
     "metadata": {},
     "output_type": "execute_result"
    }
   ],
   "source": [
    "base = tip.tikzBase()\n",
    "\n",
    "base += tip.line(0,10,0,10)\n",
    "base += tip.line(5,8,5,5, label = 'newline', labelalign = 'right')\n",
    "\n",
    "base += tip.line(x1=4, x2=2, y1=4, y2=4, label = 'newline', labelalign = 'left', draw_opts = ['red', 'very thin', '->'])\n",
    "\n",
    "bshow(base, 'test/', 'line')"
   ]
  },
  {
   "cell_type": "markdown",
   "metadata": {},
   "source": [
    "# Text"
   ]
  },
  {
   "cell_type": "code",
   "execution_count": 6,
   "metadata": {},
   "outputs": [
    {
     "name": "stdout",
     "output_type": "stream",
     "text": [
      "0\n"
     ]
    },
    {
     "data": {
      "text/html": [
       "<iframe src=test/string.pdf width=700 height=450></iframe>"
      ],
      "text/latex": [
       "\\includegraphics[width=1.0\\textwidth]{test/string.pdf}"
      ],
      "text/plain": [
       "<tikzinpy.pdfshow.PDF at 0x7f2e8132c1d0>"
      ]
     },
     "execution_count": 6,
     "metadata": {},
     "output_type": "execute_result"
    }
   ],
   "source": [
    "base = tip.tikzBase()\n",
    "\n",
    "base += tip.text(0,0, 'This is some text')\n",
    "base += tip.text(0,2, 'This is some text', draw_opts = ['red'], fontsize = 'normalsize')\n",
    "\n",
    "bshow(base, 'test/', 'string')"
   ]
  },
  {
   "cell_type": "markdown",
   "metadata": {},
   "source": [
    "# Arrows"
   ]
  },
  {
   "cell_type": "code",
   "execution_count": 7,
   "metadata": {},
   "outputs": [
    {
     "name": "stdout",
     "output_type": "stream",
     "text": [
      "0\n"
     ]
    },
    {
     "data": {
      "text/html": [
       "<iframe src=test/arrow.pdf width=700 height=450></iframe>"
      ],
      "text/latex": [
       "\\includegraphics[width=1.0\\textwidth]{test/arrow.pdf}"
      ],
      "text/plain": [
       "<tikzinpy.pdfshow.PDF at 0x7f2e812e6390>"
      ]
     },
     "execution_count": 7,
     "metadata": {},
     "output_type": "execute_result"
    }
   ],
   "source": [
    "base = tip.tikzBase()\n",
    "\n",
    "base += tip.arrow(0,5,0,0, draw_opts=['very thick'])\n",
    "base += tip.arrow(0,0,0,5, label = '\\\\textcolor{blue}{axis}', labelalign = 'above', draw_opts=['red', 'very thick'])\n",
    "\n",
    "bshow(base, 'test/', 'arrow')"
   ]
  },
  {
   "cell_type": "markdown",
   "metadata": {},
   "source": [
    "# Ticks"
   ]
  },
  {
   "cell_type": "code",
   "execution_count": 8,
   "metadata": {},
   "outputs": [
    {
     "name": "stdout",
     "output_type": "stream",
     "text": [
      "0\n"
     ]
    },
    {
     "data": {
      "text/html": [
       "<iframe src=test/ticks.pdf width=700 height=450></iframe>"
      ],
      "text/latex": [
       "\\includegraphics[width=1.0\\textwidth]{test/ticks.pdf}"
      ],
      "text/plain": [
       "<tikzinpy.pdfshow.PDF at 0x7f2e8132cda0>"
      ]
     },
     "execution_count": 8,
     "metadata": {},
     "output_type": "execute_result"
    }
   ],
   "source": [
    "base = tip.tikzBase()\n",
    "\n",
    "base += tip.ticks([0,1,2,3,4,5], 'h')\n",
    "base += tip.ticks([0,1,2,3,4,5], 'v')\n",
    "\n",
    "base += tip.ticks([0,1,2,3,4,5], 'v', x = 5)\n",
    "base += tip.ticks([0,1,2,3,4,5], 'h', y = 5, rangekwargs = {'decimals':1})\n",
    "\n",
    "base += tip.ticks([0,1,2], 'v', y = 2, x = 3)\n",
    "\n",
    "bshow(base, 'test/', 'ticks')"
   ]
  },
  {
   "cell_type": "code",
   "execution_count": 9,
   "metadata": {},
   "outputs": [
    {
     "name": "stdout",
     "output_type": "stream",
     "text": [
      "0\n"
     ]
    },
    {
     "data": {
      "text/html": [
       "<iframe src=test/ticks2.pdf width=700 height=450></iframe>"
      ],
      "text/latex": [
       "\\includegraphics[width=1.0\\textwidth]{test/ticks2.pdf}"
      ],
      "text/plain": [
       "<tikzinpy.pdfshow.PDF at 0x7f2eac599390>"
      ]
     },
     "execution_count": 9,
     "metadata": {},
     "output_type": "execute_result"
    }
   ],
   "source": [
    "base = tip.tikzBase()\n",
    "\n",
    "base += tip.ticks([-1,0,1,2,3,4,5], 'h', tickalign = 'left', tickwidth = 10, draw_opts=['red', 'thick'])\n",
    "base += tip.ticks([-1,0,1,2,3,4,5], 'v', tickalign = 'left', tickwidth = 10)\n",
    "\n",
    "base += tip.line(-1,5,0,0, draw_opts = ['thick'])\n",
    "base += tip.line(0,0,-1,5, draw_opts = ['thick'])\n",
    "\n",
    "bshow(base, 'test/', 'ticks2')"
   ]
  },
  {
   "cell_type": "markdown",
   "metadata": {},
   "source": [
    "# Tickmarks"
   ]
  },
  {
   "cell_type": "code",
   "execution_count": 10,
   "metadata": {
    "scrolled": true
   },
   "outputs": [
    {
     "name": "stdout",
     "output_type": "stream",
     "text": [
      "0\n"
     ]
    },
    {
     "data": {
      "text/html": [
       "<iframe src=test/tickmarks.pdf width=700 height=450></iframe>"
      ],
      "text/latex": [
       "\\includegraphics[width=1.0\\textwidth]{test/tickmarks.pdf}"
      ],
      "text/plain": [
       "<tikzinpy.pdfshow.PDF at 0x7f2e8132ce10>"
      ]
     },
     "execution_count": 10,
     "metadata": {},
     "output_type": "execute_result"
    }
   ],
   "source": [
    "base = tip.tikzBase()\n",
    "\n",
    "base += tip.ticks([-1,0,1,2,3,4,5], 'h', tickalign = 'center', tickwidth = 2)\n",
    "base += tip.ticks([-1,0,1,2,3,4,5], 'v', tickalign = 'center', tickwidth = 2)\n",
    "\n",
    "\n",
    "base += tip.tickmarks([-1,0,1,2,3,4,5], 'h', dy = 0, align = 'below')\n",
    "base += tip.tickmarks([-1,0,1,2,3,4,5], 'v', dx = 0, align = 'left')\n",
    "\n",
    "bshow(base, 'test/', 'tickmarks')"
   ]
  },
  {
   "cell_type": "markdown",
   "metadata": {},
   "source": [
    "## x and y-axis"
   ]
  },
  {
   "cell_type": "code",
   "execution_count": 11,
   "metadata": {},
   "outputs": [
    {
     "name": "stdout",
     "output_type": "stream",
     "text": [
      "0\n"
     ]
    },
    {
     "data": {
      "text/html": [
       "<iframe src=test/xyaxis.pdf width=700 height=450></iframe>"
      ],
      "text/latex": [
       "\\includegraphics[width=1.0\\textwidth]{test/xyaxis.pdf}"
      ],
      "text/plain": [
       "<tikzinpy.pdfshow.PDF at 0x7f2e812e6b70>"
      ]
     },
     "execution_count": 11,
     "metadata": {},
     "output_type": "execute_result"
    }
   ],
   "source": [
    "base = tip.tikzBase(xy_ratio = '2:1')\n",
    "\n",
    "base += tip.xaxis(0,4.9,0, align = 'below', labelalign = 'right', label = '$x$', draw_opts = ['thin'], tickwidth = 4, tickalign = 'left')\n",
    "base += tip.yaxis(0,4.9,0, align = 'left', labelalign = 'above', label = '$y$', draw_opts = ['thin'], tickwidth = 4, tickalign = 'left')\n",
    "\n",
    "bshow(base, 'test/', 'xyaxis')"
   ]
  },
  {
   "cell_type": "markdown",
   "metadata": {},
   "source": [
    "# Scatter"
   ]
  },
  {
   "cell_type": "code",
   "execution_count": 12,
   "metadata": {},
   "outputs": [
    {
     "name": "stdout",
     "output_type": "stream",
     "text": [
      "0\n"
     ]
    },
    {
     "data": {
      "text/html": [
       "<iframe src=test/scatter.pdf width=700 height=450></iframe>"
      ],
      "text/latex": [
       "\\includegraphics[width=1.0\\textwidth]{test/scatter.pdf}"
      ],
      "text/plain": [
       "<tikzinpy.pdfshow.PDF at 0x7f2eac599470>"
      ]
     },
     "execution_count": 12,
     "metadata": {},
     "output_type": "execute_result"
    }
   ],
   "source": [
    "base = tip.tikzBase()\n",
    "\n",
    "base += tip.pointscatter(data_x, data_y, color = data_e, alpha = 1)\n",
    "base += tip.pointscatter(data_x, 0.2*data_y**2, color = 'blue', shape = 'hollow')\n",
    "\n",
    "bshow(base, 'test/', 'scatter')"
   ]
  },
  {
   "cell_type": "markdown",
   "metadata": {},
   "source": [
    "# Colorbar"
   ]
  },
  {
   "cell_type": "code",
   "execution_count": 13,
   "metadata": {},
   "outputs": [
    {
     "name": "stdout",
     "output_type": "stream",
     "text": [
      "0\n"
     ]
    },
    {
     "data": {
      "text/html": [
       "<iframe src=test/colorbar.pdf width=700 height=450></iframe>"
      ],
      "text/latex": [
       "\\includegraphics[width=1.0\\textwidth]{test/colorbar.pdf}"
      ],
      "text/plain": [
       "<tikzinpy.pdfshow.PDF at 0x7f2e81291780>"
      ]
     },
     "execution_count": 13,
     "metadata": {},
     "output_type": "execute_result"
    }
   ],
   "source": [
    "base = tip.tikzBase()\n",
    "\n",
    "base += tip.pointscatter(data_x, data_y, color = data_e, cmap = 'PuOr', alpha = 1, size = 'Large')\n",
    "\n",
    "base += tip.colors.colorbar(data_e, 'PuOr', stepsize = 0.1, orientation = 'horizontal', width = 5, height = 0.2,\n",
    "                           x = -0.5, y = -0.5, fontsize = 'footnotesize', label = '$\\epsilon$')\n",
    "\n",
    "bshow(base, 'test/', 'colorbar')"
   ]
  },
  {
   "cell_type": "markdown",
   "metadata": {},
   "source": [
    "# Line plot"
   ]
  },
  {
   "cell_type": "code",
   "execution_count": 14,
   "metadata": {},
   "outputs": [
    {
     "name": "stdout",
     "output_type": "stream",
     "text": [
      "0\n"
     ]
    },
    {
     "data": {
      "text/html": [
       "<iframe src=test/lineplot.pdf width=700 height=450></iframe>"
      ],
      "text/latex": [
       "\\includegraphics[width=1.0\\textwidth]{test/lineplot.pdf}"
      ],
      "text/plain": [
       "<tikzinpy.pdfshow.PDF at 0x7f2e81291b38>"
      ]
     },
     "execution_count": 14,
     "metadata": {},
     "output_type": "execute_result"
    }
   ],
   "source": [
    "base = tip.tikzBase()\n",
    "\n",
    "base += tip.lineplot(data_x, data_y)\n",
    "base += tip.lineplot(data_x, data_y+0.5, color='black')\n",
    "base += tip.lineplot(data_x, data_y-0.5, '->', color='black')\n",
    "\n",
    "bshow(base, 'test/', 'lineplot')"
   ]
  },
  {
   "cell_type": "markdown",
   "metadata": {},
   "source": [
    "# Setting the aspect ratio of the plot"
   ]
  },
  {
   "cell_type": "code",
   "execution_count": 15,
   "metadata": {},
   "outputs": [
    {
     "name": "stdout",
     "output_type": "stream",
     "text": [
      "0\n"
     ]
    },
    {
     "data": {
      "text/html": [
       "<iframe src=test/xyratio.pdf width=700 height=450></iframe>"
      ],
      "text/latex": [
       "\\includegraphics[width=1.0\\textwidth]{test/xyratio.pdf}"
      ],
      "text/plain": [
       "<tikzinpy.pdfshow.PDF at 0x7f2e8129cac8>"
      ]
     },
     "execution_count": 15,
     "metadata": {},
     "output_type": "execute_result"
    }
   ],
   "source": [
    "base = tip.tikzBase(xy_ratio = '1.5:1')\n",
    "\n",
    "base += tip.pointscatter(data_x, data_y, color = data_e, cmap = 'PuOr', alpha = 1, size = 'Large')\n",
    "base += tip.lineplot(data_x, data_y)\n",
    "\n",
    "base += tip.colors.colorbar(data_e, 'PuOr', stepsize = 0.1, orientation = 'horizontal', width = 5, height = 0.2,\n",
    "                           x = 0.5, y = -0.5, fontsize = 'footnotesize', label = '$\\epsilon$')\n",
    "\n",
    "base += tip.xaxis(0,7,0, align = 'below', labelalign='right', label = '$x$', draw_opts = ['thin'], tickwidth = 4, tickalign = 'left')\n",
    "base += tip.yaxis(0,5,0, align = 'left', labelalign='above', label = '$y$', draw_opts = ['thin'], tickwidth = 4, tickalign = 'left')\n",
    "\n",
    "bshow(base, 'test/', 'xyratio')"
   ]
  },
  {
   "cell_type": "markdown",
   "metadata": {},
   "source": [
    "# Prebuild scatterplot"
   ]
  },
  {
   "cell_type": "code",
   "execution_count": 16,
   "metadata": {},
   "outputs": [
    {
     "name": "stdout",
     "output_type": "stream",
     "text": [
      "0\n"
     ]
    },
    {
     "data": {
      "text/html": [
       "<iframe src=test/scatterplot.pdf width=700 height=450></iframe>"
      ],
      "text/latex": [
       "\\includegraphics[width=1.0\\textwidth]{test/scatterplot.pdf}"
      ],
      "text/plain": [
       "<tikzinpy.pdfshow.PDF at 0x7f2e812e6a58>"
      ]
     },
     "execution_count": 16,
     "metadata": {},
     "output_type": "execute_result"
    }
   ],
   "source": [
    "from tikzinpy.prebuild import scatterplot\n",
    "\n",
    "s = tip.prebuild.scatterplot(x, y, c = color, cbar_orientation='h', markersize = 'small', xlabel = '$3\\cdot$sepal length',\n",
    "                            ylabel = '$3\\cdot$sepal width', cmap = 'Accent', xy_ratio = '1:1')\n",
    "\n",
    "bshow(s, 'test/', 'scatterplot')"
   ]
  },
  {
   "cell_type": "markdown",
   "metadata": {},
   "source": [
    "# Path"
   ]
  },
  {
   "cell_type": "code",
   "execution_count": 17,
   "metadata": {},
   "outputs": [
    {
     "name": "stdout",
     "output_type": "stream",
     "text": [
      "0\n"
     ]
    },
    {
     "data": {
      "text/html": [
       "<iframe src=test/path.pdf width=700 height=450></iframe>"
      ],
      "text/latex": [
       "\\includegraphics[width=1.0\\textwidth]{test/path.pdf}"
      ],
      "text/plain": [
       "<tikzinpy.pdfshow.PDF at 0x7f2e812efc50>"
      ]
     },
     "execution_count": 17,
     "metadata": {},
     "output_type": "execute_result"
    }
   ],
   "source": [
    "base = tip.tikzBase(xy_ratio= '10:1')\n",
    "pts = (0,0), (3,3), (3,1), (2,1), (5,0)\n",
    "\n",
    "base += tip.path(*pts, draw_opts = ['gray!80', 'thick'])\n",
    "base += tip.path(*pts, smooth = True, tension = 2, draw_opts = ['blue!10', 'very thick'])\n",
    "base += tip.path(*pts, smooth = True, tension = 3, draw_opts = ['blue!20', 'very thick'])\n",
    "base += tip.path(*pts, smooth = True, tension = 4, draw_opts = ['blue!30', 'very thick'])\n",
    "\n",
    "bshow(base, 'test/', 'path')"
   ]
  },
  {
   "cell_type": "code",
   "execution_count": 20,
   "metadata": {},
   "outputs": [
    {
     "name": "stdout",
     "output_type": "stream",
     "text": [
      "0\n"
     ]
    },
    {
     "data": {
      "text/html": [
       "<iframe src=test/circle.pdf width=700 height=450></iframe>"
      ],
      "text/latex": [
       "\\includegraphics[width=1.0\\textwidth]{test/circle.pdf}"
      ],
      "text/plain": [
       "<tikzinpy.pdfshow.PDF at 0x7f2e812adc88>"
      ]
     },
     "execution_count": 20,
     "metadata": {},
     "output_type": "execute_result"
    }
   ],
   "source": [
    "base = tip.tikzBase(xy_ratio= '10:1')\n",
    "base += tip.circle(0,0,5, draw_opts = ['thick', 'red'])\n",
    "bshow(base, 'test/', 'circle')"
   ]
  },
  {
   "cell_type": "code",
   "execution_count": null,
   "metadata": {},
   "outputs": [],
   "source": []
  }
 ],
 "metadata": {
  "kernelspec": {
   "display_name": "Python 3",
   "language": "python",
   "name": "python3"
  },
  "language_info": {
   "codemirror_mode": {
    "name": "ipython",
    "version": 3
   },
   "file_extension": ".py",
   "mimetype": "text/x-python",
   "name": "python",
   "nbconvert_exporter": "python",
   "pygments_lexer": "ipython3",
   "version": "3.7.3"
  }
 },
 "nbformat": 4,
 "nbformat_minor": 2
}
