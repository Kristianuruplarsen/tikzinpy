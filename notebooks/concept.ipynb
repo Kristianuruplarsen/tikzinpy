{
 "cells": [
  {
   "cell_type": "code",
   "execution_count": 1,
   "metadata": {},
   "outputs": [],
   "source": [
    "import numpy as np\n",
    "\n",
    "import os\n",
    "def build(fig, name):\n",
    "    with open(f'temp/{name}.tex', 'w') as f:\n",
    "        f.write(fig)\n",
    "    x = os.system(f\"latexmk -pdf temp/{name}.tex\")\n",
    "    print(x)\n",
    "    \n",
    "class PDF(object):\n",
    "    def __init__(self, pdf, size=(200,200)):\n",
    "        self.pdf = pdf\n",
    "        self.size = size\n",
    "\n",
    "    def _repr_html_(self):\n",
    "        return '<iframe src={0} width={1[0]} height={1[1]}></iframe>'.format(self.pdf, self.size)\n",
    "\n",
    "    def _repr_latex_(self):\n",
    "        return r'\\includegraphics[width=1.0\\textwidth]{{{0}}}'.format(self.pdf)"
   ]
  },
  {
   "cell_type": "code",
   "execution_count": 2,
   "metadata": {},
   "outputs": [],
   "source": [
    "import tikzinpy\n",
    "from tikzinpy.shapes import *\n",
    "from tikzinpy.shapes.datashapes import *"
   ]
  },
  {
   "cell_type": "code",
   "execution_count": 3,
   "metadata": {},
   "outputs": [],
   "source": [
    "# This is just some data to test with\n",
    "data_x = np.linspace(-2, 6, 100)\n",
    "data_e = np.random.uniform(0,1, size = 100)\n",
    "data_y = 0.5*data_x + data_e"
   ]
  },
  {
   "cell_type": "markdown",
   "metadata": {},
   "source": [
    "# Low level components\n",
    "The first example shows how to build a figure from atomics. All of the higher level functionality uses these atomics to simplify building figures"
   ]
  },
  {
   "cell_type": "code",
   "execution_count": 4,
   "metadata": {},
   "outputs": [
    {
     "name": "stdout",
     "output_type": "stream",
     "text": [
      "\n",
      "        \\documentclass[tikz, border=2mm]{standalone}\n",
      "        \\usepackage{tikz}\n",
      "        \\begin{document}    \n",
      "            \\begin{tikzpicture}\n",
      "        \n",
      "            \\end{tikzpicture}\n",
      "        \\end{document}\n",
      "        \n"
     ]
    }
   ],
   "source": [
    "base = tikzinpy.tikzBase()\n",
    "print(base.figure)"
   ]
  },
  {
   "cell_type": "code",
   "execution_count": 5,
   "metadata": {},
   "outputs": [
    {
     "data": {
      "text/plain": [
       "'-2,-1,1,2,3,4,5,6'"
      ]
     },
     "execution_count": 5,
     "metadata": {},
     "output_type": "execute_result"
    }
   ],
   "source": [
    "# This simply generates the points we want to use for \n",
    "# the axis ticks\n",
    "points = tikzinpy.number_range(-2,6, decimals = 0, remove_zero = True)\n",
    "points"
   ]
  },
  {
   "cell_type": "code",
   "execution_count": null,
   "metadata": {},
   "outputs": [],
   "source": [
    "# This adds arrows going along the X and y axis of the plot\n",
    "base += tikzinpy.arrow(-2, 6,0,0, 'x', align='right', width='thick')\n",
    "base += tikzinpy.arrow(0, 0,-2,6, 'y', align='above', width='thick')\n",
    "\n",
    "print(base.figure)"
   ]
  },
  {
   "cell_type": "code",
   "execution_count": null,
   "metadata": {},
   "outputs": [],
   "source": [
    "# This add axis ticks along the horizontal and vertical axis\n",
    "# one tick for each point in points\n",
    "base += tikzinpy.ticks(points, 'h')\n",
    "base += tikzinpy.ticks(points, 'v')\n",
    "print(base.figure, 'atomic')"
   ]
  },
  {
   "cell_type": "code",
   "execution_count": null,
   "metadata": {},
   "outputs": [],
   "source": [
    "# This add tick marks on top of the tick lines\n",
    "base += tikzinpy.tickmarks(points, 'h', offset = '-5pt', fontsize = 'small')\n",
    "base += tikzinpy.tickmarks(points, 'v', offset = '-5pt', fontsize = 'small')\n",
    "\n",
    "print(base.figure)"
   ]
  },
  {
   "cell_type": "code",
   "execution_count": null,
   "metadata": {},
   "outputs": [],
   "source": [
    "# Now to plot a bunch of points on the graph\n",
    "for x,y in zip(data_x, data_y):\n",
    "    base += point(x,y, shape = 'hollow', color = 'blue')"
   ]
  },
  {
   "cell_type": "code",
   "execution_count": null,
   "metadata": {
    "scrolled": true
   },
   "outputs": [],
   "source": [
    "build(base.figure, 'atomic')\n",
    "PDF('atomic.pdf', size=(700,450))"
   ]
  },
  {
   "cell_type": "code",
   "execution_count": null,
   "metadata": {},
   "outputs": [],
   "source": [
    "# The figure is essentially stored as a dict.\n",
    "base._body"
   ]
  },
  {
   "cell_type": "code",
   "execution_count": null,
   "metadata": {
    "scrolled": true
   },
   "outputs": [],
   "source": [
    "# You can remove an element from the figure by doing\n",
    "base -= 'arrow1'"
   ]
  },
  {
   "cell_type": "markdown",
   "metadata": {},
   "source": [
    "# High level components\n",
    "Now the same can be achieved in significantly fewer lines of code by using the higher level methods"
   ]
  },
  {
   "cell_type": "code",
   "execution_count": null,
   "metadata": {},
   "outputs": [],
   "source": [
    "base = tikzinpy.tikzBase()\n",
    "base += tikzinpy.xaxis(0, 5.9, label = \"x\", remove_zero = True, offset='-5pt', eps = 0, align = 'right')\n",
    "base += tikzinpy.yaxis(0, 3.9, label = 'y', remove_zero = True, offset = '-5pt', eps = 0)\n",
    "#base += pytikz.grid((-2.5,-2.5), (6.5,6.5))\n",
    "\n",
    "for x,y in zip(data_x, data_y):\n",
    "    base += point(x,y, shape = 'hollow', color = 'blue')\n",
    "\n",
    "for x,y in zip(data_x, data_y):\n",
    "    base += point(x,y + .5, shape = 'hollow', color = 'red')\n",
    "\n",
    "# also add some lines\n",
    "for xl,xh, yl, yh in zip(data_x[:-1], data_x[1:], data_y[:-1], data_y[1:]):\n",
    "    base += line(xl,xh, yl, yh)\n",
    "\n",
    "# Manual legend for now\n",
    "# I dont know how to decide the positioning\n",
    "base += text(4.2,1, 'Blue points', fontsize = 'footnotesize')\n",
    "base += point(4,1, shape = 'hollow', color = 'blue')\n",
    "\n",
    "base += text(4.2, 0.7, 'Red points', fontsize = 'footnotesize')\n",
    "base += point(4, 0.7, shape = 'hollow', color = 'red')\n"
   ]
  },
  {
   "cell_type": "code",
   "execution_count": null,
   "metadata": {},
   "outputs": [],
   "source": [
    "build(base.figure, 'highlevel')\n",
    "PDF('highlevel.pdf', size=(700,450))"
   ]
  },
  {
   "cell_type": "markdown",
   "metadata": {},
   "source": [
    "# Colors\n",
    "We can also handle matplotlib colormaps"
   ]
  },
  {
   "cell_type": "code",
   "execution_count": null,
   "metadata": {},
   "outputs": [],
   "source": [
    "\n",
    "\n",
    "base = tikzinpy.tikzBase()\n",
    "\n",
    "base += tikzinpy.xaxis(-2, 6, label = \"x\", remove_zero = True, offset = '-5pt', align = 'right')\n",
    "base += tikzinpy.yaxis(-1, 4, label = 'y', remove_zero = True, offset = '-5pt')\n",
    "\n",
    "base += pointswarm(data_x, data_y, c = data_e, cmap = 'PiYG', shape = 'fill', alpha = 0.6)"
   ]
  },
  {
   "cell_type": "code",
   "execution_count": null,
   "metadata": {
    "scrolled": true
   },
   "outputs": [],
   "source": [
    "build(base.figure, 'cmap')\n",
    "PDF('cmap.pdf', size=(700,450))"
   ]
  },
  {
   "cell_type": "markdown",
   "metadata": {},
   "source": [
    "# Test"
   ]
  },
  {
   "cell_type": "code",
   "execution_count": null,
   "metadata": {},
   "outputs": [],
   "source": [
    "base = tikzinpy.tikzBase()\n",
    "\n",
    "for x in (-1,1):\n",
    "    for y in (-1,1):\n",
    "        base += point(x,y)\n",
    "base += point(0,0)\n",
    "\n",
    "base += tikzinpy.xaxis(-2, 6, label = \"x\", offset = '-5pt', remove_zero = True, align = 'right')\n",
    "base += tikzinpy.yaxis(0, 4, label = 'cx^2', offset = '-5pt', remove_zero = True)\n",
    "base += pointswarm(data_x, 0.2*data_y**2, c = data_y, cmap = 'PiYG', shape = 'fill', alpha = 0.6)\n",
    "\n",
    "base += tikzinpy.colors.colorbar('PiYG', data_y, at_x = -3, at_y=-1, step = 1)\n",
    "\n",
    "build(base.figure, 'cmap2')\n",
    "PDF('cmap2.pdf', size=(700,450))"
   ]
  },
  {
   "cell_type": "markdown",
   "metadata": {},
   "source": [
    "# pgfplots (not even close to working)"
   ]
  },
  {
   "cell_type": "code",
   "execution_count": null,
   "metadata": {},
   "outputs": [],
   "source": [
    "from tikzinpy import pgfplots"
   ]
  },
  {
   "cell_type": "code",
   "execution_count": null,
   "metadata": {},
   "outputs": [],
   "source": [
    "# First we set up some data\n",
    "x = np.linspace(0,10, 20)\n",
    "y = x**2\n",
    "\n",
    "# This sets each point in one of three groups (a,b,c)\n",
    "# and sets the coloring accordingly\n",
    "group = np.random.choice(['a','b', 'c'], 20)\n",
    "style = {'a': 'red', 'b': 'mark=square*, blue', 'c': 'green'}"
   ]
  },
  {
   "cell_type": "code",
   "execution_count": null,
   "metadata": {},
   "outputs": [],
   "source": [
    "base = tikzinpy.tikzBase()\n",
    "base.add_package('pgfplots')\n",
    "\n",
    "base += pgfplots.scatterplot(x,y, group, style)\n",
    "build(base.figure, 'scatter')"
   ]
  },
  {
   "cell_type": "code",
   "execution_count": null,
   "metadata": {},
   "outputs": [],
   "source": [
    "PDF('scatter.pdf', size=(700,450))"
   ]
  },
  {
   "cell_type": "code",
   "execution_count": null,
   "metadata": {},
   "outputs": [],
   "source": [
    "print(base.figure)"
   ]
  },
  {
   "cell_type": "code",
   "execution_count": null,
   "metadata": {},
   "outputs": [],
   "source": [
    "# This is just messing around to try and get colormaps to work\n",
    "from tikzinpy.colors import build_cmap"
   ]
  },
  {
   "cell_type": "code",
   "execution_count": null,
   "metadata": {},
   "outputs": [],
   "source": [
    "print(build_cmap('magma', data_e).content)"
   ]
  },
  {
   "cell_type": "code",
   "execution_count": null,
   "metadata": {},
   "outputs": [],
   "source": []
  }
 ],
 "metadata": {
  "kernelspec": {
   "display_name": "Python 3",
   "language": "python",
   "name": "python3"
  },
  "language_info": {
   "codemirror_mode": {
    "name": "ipython",
    "version": 3
   },
   "file_extension": ".py",
   "mimetype": "text/x-python",
   "name": "python",
   "nbconvert_exporter": "python",
   "pygments_lexer": "ipython3",
   "version": "3.7.3"
  }
 },
 "nbformat": 4,
 "nbformat_minor": 2
}
