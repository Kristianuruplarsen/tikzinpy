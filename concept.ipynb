{
 "cells": [
  {
   "cell_type": "code",
   "execution_count": 1,
   "metadata": {},
   "outputs": [],
   "source": [
    "import numpy as np\n",
    "\n",
    "import os\n",
    "def build(fig, name):\n",
    "    with open(f'temp/{name}.tex', 'w') as f:\n",
    "        f.write(fig)\n",
    "    x = os.system(f\"latexmk -pdf temp/{name}.tex\")\n",
    "    print(x)\n",
    "    \n",
    "class PDF(object):\n",
    "    def __init__(self, pdf, size=(200,200)):\n",
    "        self.pdf = pdf\n",
    "        self.size = size\n",
    "\n",
    "    def _repr_html_(self):\n",
    "        return '<iframe src={0} width={1[0]} height={1[1]}></iframe>'.format(self.pdf, self.size)\n",
    "\n",
    "    def _repr_latex_(self):\n",
    "        return r'\\includegraphics[width=1.0\\textwidth]{{{0}}}'.format(self.pdf)"
   ]
  },
  {
   "cell_type": "code",
   "execution_count": 2,
   "metadata": {},
   "outputs": [],
   "source": [
    "import tikzinpy\n",
    "from tikzinpy.shapes import point, line"
   ]
  },
  {
   "cell_type": "code",
   "execution_count": 3,
   "metadata": {},
   "outputs": [],
   "source": [
    "# This is just some data to test with\n",
    "data_x = np.linspace(-2, 6, 100)\n",
    "data_e = np.random.uniform(0,1, size = 100)\n",
    "data_y = 0.5*data_x + data_e"
   ]
  },
  {
   "cell_type": "markdown",
   "metadata": {},
   "source": [
    "The first example shows how to build a figure from atomics. All of the higher level functionality uses these atomics to simplify building figures"
   ]
  },
  {
   "cell_type": "code",
   "execution_count": 4,
   "metadata": {},
   "outputs": [
    {
     "name": "stdout",
     "output_type": "stream",
     "text": [
      "\n",
      "        \\documentclass[tikz, border=2mm]{standalone}\n",
      "        \\usepackage{tikz}\n",
      "        \\begin{document}    \n",
      "            \\begin{tikzpicture}\n",
      "        \n",
      "            \\end{tikzpicture}\n",
      "        \\end{document}\n",
      "        \n"
     ]
    }
   ],
   "source": [
    "base = tikzinpy.tikzBase()\n",
    "print(base.figure)"
   ]
  },
  {
   "cell_type": "code",
   "execution_count": 5,
   "metadata": {},
   "outputs": [
    {
     "data": {
      "text/plain": [
       "'-2,-1,1,2,3,4,5,6'"
      ]
     },
     "execution_count": 5,
     "metadata": {},
     "output_type": "execute_result"
    }
   ],
   "source": [
    "# This simply generates the points we want to use for \n",
    "# the axis ticks\n",
    "points = tikzinpy.number_range(-2,6, decimals = 0, remove_zero = True)\n",
    "points"
   ]
  },
  {
   "cell_type": "code",
   "execution_count": 6,
   "metadata": {},
   "outputs": [
    {
     "name": "stdout",
     "output_type": "stream",
     "text": [
      "\n",
      "        \\documentclass[tikz, border=2mm]{standalone}\n",
      "        \\usepackage{tikz}\n",
      "        \\begin{document}    \n",
      "            \\begin{tikzpicture}\n",
      "        \\draw[thick, ->] (-2,0) -- (6,0) node[right] {$x$};\n",
      "\\draw[thick, ->] (0,-2) -- (0,6) node[above] {$y$};\n",
      "            \\end{tikzpicture}\n",
      "        \\end{document}\n",
      "        \n"
     ]
    }
   ],
   "source": [
    "# This adds arrows going along the X and y axis of the plot\n",
    "base += tikzinpy.arrow(-2, 6,0,0, 'x', nodepos='right', width='thick')\n",
    "base += tikzinpy.arrow(0, 0,-2,6, 'y', nodepos='above', width='thick')\n",
    "\n",
    "print(base.figure)"
   ]
  },
  {
   "cell_type": "code",
   "execution_count": 7,
   "metadata": {},
   "outputs": [
    {
     "name": "stdout",
     "output_type": "stream",
     "text": [
      "\n",
      "        \\documentclass[tikz, border=2mm]{standalone}\n",
      "        \\usepackage{tikz}\n",
      "        \\begin{document}    \n",
      "            \\begin{tikzpicture}\n",
      "        \\draw[thick, ->] (-2,0) -- (6,0) node[right] {$x$};\n",
      "\\draw[thick, ->] (0,-2) -- (0,6) node[above] {$y$};\n",
      "        \n",
      "    \\foreach \\x in {-2,-1,1,2,3,4,5,6}\n",
      "        \\draw (\\x cm, 1pt) -- (\\x cm, -1pt);\n",
      "    \n",
      "        \n",
      "    \\foreach \\x in {-2,-1,1,2,3,4,5,6}\n",
      "        \\draw (1pt, \\x cm) -- (-1pt, \\x cm);\n",
      "    \n",
      "            \\end{tikzpicture}\n",
      "        \\end{document}\n",
      "         atomic\n"
     ]
    }
   ],
   "source": [
    "# This add axis ticks along the horizontal and vertical axis\n",
    "# one tick for each point in points\n",
    "base += tikzinpy.ticks(points, 'h')\n",
    "base += tikzinpy.ticks(points, 'v')\n",
    "print(base.figure, 'atomic')"
   ]
  },
  {
   "cell_type": "code",
   "execution_count": 8,
   "metadata": {},
   "outputs": [
    {
     "name": "stdout",
     "output_type": "stream",
     "text": [
      "\n",
      "        \\documentclass[tikz, border=2mm]{standalone}\n",
      "        \\usepackage{tikz}\n",
      "        \\begin{document}    \n",
      "            \\begin{tikzpicture}\n",
      "        \\draw[thick, ->] (-2,0) -- (6,0) node[right] {$x$};\n",
      "\\draw[thick, ->] (0,-2) -- (0,6) node[above] {$y$};\n",
      "        \n",
      "    \\foreach \\x in {-2,-1,1,2,3,4,5,6}\n",
      "        \\draw (\\x cm, 1pt) -- (\\x cm, -1pt);\n",
      "    \n",
      "        \n",
      "    \\foreach \\x in {-2,-1,1,2,3,4,5,6}\n",
      "        \\draw (1pt, \\x cm) -- (-1pt, \\x cm);\n",
      "    \n",
      "        \n",
      "    \\foreach \\x in {-2,-1,1,2,3,4,5,6}\n",
      "        \\node at (\\x, -5pt)  {\\small $\\x$};\n",
      "    \n",
      "        \n",
      "    \\foreach \\x in {-2,-1,1,2,3,4,5,6}\n",
      "        \\node at (-5pt, \\x)  {\\small $\\x$};\n",
      "    \n",
      "            \\end{tikzpicture}\n",
      "        \\end{document}\n",
      "        \n"
     ]
    }
   ],
   "source": [
    "# This add tick marks on top of the tick lines\n",
    "base += tikzinpy.tickmarks(points, 'h', '-5pt', fontsize = 'small')\n",
    "base += tikzinpy.tickmarks(points, 'v', '-5pt', fontsize = 'small')\n",
    "\n",
    "print(base.figure)"
   ]
  },
  {
   "cell_type": "code",
   "execution_count": 9,
   "metadata": {},
   "outputs": [],
   "source": [
    "# Now to plot a bunch of points on the graph\n",
    "for x,y in zip(data_x, data_y):\n",
    "    base += point(x,y, shape = 'hollow', color = 'blue')"
   ]
  },
  {
   "cell_type": "code",
   "execution_count": 10,
   "metadata": {},
   "outputs": [
    {
     "name": "stdout",
     "output_type": "stream",
     "text": [
      "0\n"
     ]
    },
    {
     "data": {
      "text/html": [
       "<iframe src=atomic.pdf width=700 height=450></iframe>"
      ],
      "text/latex": [
       "\\includegraphics[width=1.0\\textwidth]{atomic.pdf}"
      ],
      "text/plain": [
       "<__main__.PDF at 0x7f2a0499cf60>"
      ]
     },
     "execution_count": 10,
     "metadata": {},
     "output_type": "execute_result"
    }
   ],
   "source": [
    "build(base.figure, 'atomic')\n",
    "PDF('atomic.pdf', size=(700,450))"
   ]
  },
  {
   "cell_type": "code",
   "execution_count": 11,
   "metadata": {},
   "outputs": [
    {
     "data": {
      "text/plain": [
       "{'arrow1': '\\\\draw[thick, ->] (-2,0) -- (6,0) node[right] {$x$};',\n",
       " 'arrow2': '\\\\draw[thick, ->] (0,-2) -- (0,6) node[above] {$y$};',\n",
       " 'ticks1': '        \\n    \\\\foreach \\\\x in {-2,-1,1,2,3,4,5,6}\\n        \\\\draw (\\\\x cm, 1pt) -- (\\\\x cm, -1pt);\\n    ',\n",
       " 'ticks2': '        \\n    \\\\foreach \\\\x in {-2,-1,1,2,3,4,5,6}\\n        \\\\draw (1pt, \\\\x cm) -- (-1pt, \\\\x cm);\\n    ',\n",
       " 'tickmarks1': '        \\n    \\\\foreach \\\\x in {-2,-1,1,2,3,4,5,6}\\n        \\\\node at (\\\\x, -5pt)  {\\\\small $\\\\x$};\\n    ',\n",
       " 'tickmarks2': '        \\n    \\\\foreach \\\\x in {-2,-1,1,2,3,4,5,6}\\n        \\\\node at (-5pt, \\\\x)  {\\\\small $\\\\x$};\\n    ',\n",
       " 'point1': '\\\\node[blue, opacity=1] at (-2.0, -0.193) {$\\\\circ$};',\n",
       " 'point2': '\\\\node[blue, opacity=1] at (-1.919, -0.868) {$\\\\circ$};',\n",
       " 'point3': '\\\\node[blue, opacity=1] at (-1.838, -0.885) {$\\\\circ$};',\n",
       " 'point4': '\\\\node[blue, opacity=1] at (-1.758, -0.439) {$\\\\circ$};',\n",
       " 'point5': '\\\\node[blue, opacity=1] at (-1.677, -0.447) {$\\\\circ$};',\n",
       " 'point6': '\\\\node[blue, opacity=1] at (-1.596, -0.512) {$\\\\circ$};',\n",
       " 'point7': '\\\\node[blue, opacity=1] at (-1.515, 0.188) {$\\\\circ$};',\n",
       " 'point8': '\\\\node[blue, opacity=1] at (-1.434, -0.185) {$\\\\circ$};',\n",
       " 'point9': '\\\\node[blue, opacity=1] at (-1.354, 0.294) {$\\\\circ$};',\n",
       " 'point10': '\\\\node[blue, opacity=1] at (-1.273, 0.056) {$\\\\circ$};',\n",
       " 'point11': '\\\\node[blue, opacity=1] at (-1.192, -0.374) {$\\\\circ$};',\n",
       " 'point12': '\\\\node[blue, opacity=1] at (-1.111, -0.485) {$\\\\circ$};',\n",
       " 'point13': '\\\\node[blue, opacity=1] at (-1.03, 0.024) {$\\\\circ$};',\n",
       " 'point14': '\\\\node[blue, opacity=1] at (-0.949, 0.229) {$\\\\circ$};',\n",
       " 'point15': '\\\\node[blue, opacity=1] at (-0.869, -0.339) {$\\\\circ$};',\n",
       " 'point16': '\\\\node[blue, opacity=1] at (-0.788, -0.094) {$\\\\circ$};',\n",
       " 'point17': '\\\\node[blue, opacity=1] at (-0.707, -0.259) {$\\\\circ$};',\n",
       " 'point18': '\\\\node[blue, opacity=1] at (-0.626, 0.593) {$\\\\circ$};',\n",
       " 'point19': '\\\\node[blue, opacity=1] at (-0.545, 0.264) {$\\\\circ$};',\n",
       " 'point20': '\\\\node[blue, opacity=1] at (-0.465, 0.645) {$\\\\circ$};',\n",
       " 'point21': '\\\\node[blue, opacity=1] at (-0.384, 0.011) {$\\\\circ$};',\n",
       " 'point22': '\\\\node[blue, opacity=1] at (-0.303, 0.666) {$\\\\circ$};',\n",
       " 'point23': '\\\\node[blue, opacity=1] at (-0.222, 0.604) {$\\\\circ$};',\n",
       " 'point24': '\\\\node[blue, opacity=1] at (-0.141, -0.029) {$\\\\circ$};',\n",
       " 'point25': '\\\\node[blue, opacity=1] at (-0.061, 0.394) {$\\\\circ$};',\n",
       " 'point26': '\\\\node[blue, opacity=1] at (0.02, 0.719) {$\\\\circ$};',\n",
       " 'point27': '\\\\node[blue, opacity=1] at (0.101, 0.264) {$\\\\circ$};',\n",
       " 'point28': '\\\\node[blue, opacity=1] at (0.182, 0.862) {$\\\\circ$};',\n",
       " 'point29': '\\\\node[blue, opacity=1] at (0.263, 0.188) {$\\\\circ$};',\n",
       " 'point30': '\\\\node[blue, opacity=1] at (0.343, 0.654) {$\\\\circ$};',\n",
       " 'point31': '\\\\node[blue, opacity=1] at (0.424, 0.888) {$\\\\circ$};',\n",
       " 'point32': '\\\\node[blue, opacity=1] at (0.505, 0.31) {$\\\\circ$};',\n",
       " 'point33': '\\\\node[blue, opacity=1] at (0.586, 1.083) {$\\\\circ$};',\n",
       " 'point34': '\\\\node[blue, opacity=1] at (0.667, 0.807) {$\\\\circ$};',\n",
       " 'point35': '\\\\node[blue, opacity=1] at (0.747, 1.098) {$\\\\circ$};',\n",
       " 'point36': '\\\\node[blue, opacity=1] at (0.828, 1.181) {$\\\\circ$};',\n",
       " 'point37': '\\\\node[blue, opacity=1] at (0.909, 0.459) {$\\\\circ$};',\n",
       " 'point38': '\\\\node[blue, opacity=1] at (0.99, 1.452) {$\\\\circ$};',\n",
       " 'point39': '\\\\node[blue, opacity=1] at (1.071, 1.355) {$\\\\circ$};',\n",
       " 'point40': '\\\\node[blue, opacity=1] at (1.152, 0.933) {$\\\\circ$};',\n",
       " 'point41': '\\\\node[blue, opacity=1] at (1.232, 1.092) {$\\\\circ$};',\n",
       " 'point42': '\\\\node[blue, opacity=1] at (1.313, 1.451) {$\\\\circ$};',\n",
       " 'point43': '\\\\node[blue, opacity=1] at (1.394, 1.037) {$\\\\circ$};',\n",
       " 'point44': '\\\\node[blue, opacity=1] at (1.475, 1.691) {$\\\\circ$};',\n",
       " 'point45': '\\\\node[blue, opacity=1] at (1.556, 0.959) {$\\\\circ$};',\n",
       " 'point46': '\\\\node[blue, opacity=1] at (1.636, 1.752) {$\\\\circ$};',\n",
       " 'point47': '\\\\node[blue, opacity=1] at (1.717, 1.156) {$\\\\circ$};',\n",
       " 'point48': '\\\\node[blue, opacity=1] at (1.798, 1.728) {$\\\\circ$};',\n",
       " 'point49': '\\\\node[blue, opacity=1] at (1.879, 1.774) {$\\\\circ$};',\n",
       " 'point50': '\\\\node[blue, opacity=1] at (1.96, 1.761) {$\\\\circ$};',\n",
       " 'point51': '\\\\node[blue, opacity=1] at (2.04, 1.371) {$\\\\circ$};',\n",
       " 'point52': '\\\\node[blue, opacity=1] at (2.121, 1.725) {$\\\\circ$};',\n",
       " 'point53': '\\\\node[blue, opacity=1] at (2.202, 2.047) {$\\\\circ$};',\n",
       " 'point54': '\\\\node[blue, opacity=1] at (2.283, 1.339) {$\\\\circ$};',\n",
       " 'point55': '\\\\node[blue, opacity=1] at (2.364, 1.677) {$\\\\circ$};',\n",
       " 'point56': '\\\\node[blue, opacity=1] at (2.444, 1.274) {$\\\\circ$};',\n",
       " 'point57': '\\\\node[blue, opacity=1] at (2.525, 1.681) {$\\\\circ$};',\n",
       " 'point58': '\\\\node[blue, opacity=1] at (2.606, 1.57) {$\\\\circ$};',\n",
       " 'point59': '\\\\node[blue, opacity=1] at (2.687, 2.147) {$\\\\circ$};',\n",
       " 'point60': '\\\\node[blue, opacity=1] at (2.768, 1.582) {$\\\\circ$};',\n",
       " 'point61': '\\\\node[blue, opacity=1] at (2.848, 2.401) {$\\\\circ$};',\n",
       " 'point62': '\\\\node[blue, opacity=1] at (2.929, 2.386) {$\\\\circ$};',\n",
       " 'point63': '\\\\node[blue, opacity=1] at (3.01, 1.553) {$\\\\circ$};',\n",
       " 'point64': '\\\\node[blue, opacity=1] at (3.091, 1.676) {$\\\\circ$};',\n",
       " 'point65': '\\\\node[blue, opacity=1] at (3.172, 1.624) {$\\\\circ$};',\n",
       " 'point66': '\\\\node[blue, opacity=1] at (3.253, 2.592) {$\\\\circ$};',\n",
       " 'point67': '\\\\node[blue, opacity=1] at (3.333, 1.682) {$\\\\circ$};',\n",
       " 'point68': '\\\\node[blue, opacity=1] at (3.414, 2.323) {$\\\\circ$};',\n",
       " 'point69': '\\\\node[blue, opacity=1] at (3.495, 2.259) {$\\\\circ$};',\n",
       " 'point70': '\\\\node[blue, opacity=1] at (3.576, 2.285) {$\\\\circ$};',\n",
       " 'point71': '\\\\node[blue, opacity=1] at (3.657, 2.003) {$\\\\circ$};',\n",
       " 'point72': '\\\\node[blue, opacity=1] at (3.737, 2.497) {$\\\\circ$};',\n",
       " 'point73': '\\\\node[blue, opacity=1] at (3.818, 2.11) {$\\\\circ$};',\n",
       " 'point74': '\\\\node[blue, opacity=1] at (3.899, 2.299) {$\\\\circ$};',\n",
       " 'point75': '\\\\node[blue, opacity=1] at (3.98, 2.949) {$\\\\circ$};',\n",
       " 'point76': '\\\\node[blue, opacity=1] at (4.061, 2.042) {$\\\\circ$};',\n",
       " 'point77': '\\\\node[blue, opacity=1] at (4.141, 2.459) {$\\\\circ$};',\n",
       " 'point78': '\\\\node[blue, opacity=1] at (4.222, 2.509) {$\\\\circ$};',\n",
       " 'point79': '\\\\node[blue, opacity=1] at (4.303, 2.446) {$\\\\circ$};',\n",
       " 'point80': '\\\\node[blue, opacity=1] at (4.384, 2.407) {$\\\\circ$};',\n",
       " 'point81': '\\\\node[blue, opacity=1] at (4.465, 2.55) {$\\\\circ$};',\n",
       " 'point82': '\\\\node[blue, opacity=1] at (4.545, 2.699) {$\\\\circ$};',\n",
       " 'point83': '\\\\node[blue, opacity=1] at (4.626, 2.718) {$\\\\circ$};',\n",
       " 'point84': '\\\\node[blue, opacity=1] at (4.707, 3.113) {$\\\\circ$};',\n",
       " 'point85': '\\\\node[blue, opacity=1] at (4.788, 3.068) {$\\\\circ$};',\n",
       " 'point86': '\\\\node[blue, opacity=1] at (4.869, 2.962) {$\\\\circ$};',\n",
       " 'point87': '\\\\node[blue, opacity=1] at (4.949, 2.708) {$\\\\circ$};',\n",
       " 'point88': '\\\\node[blue, opacity=1] at (5.03, 3.35) {$\\\\circ$};',\n",
       " 'point89': '\\\\node[blue, opacity=1] at (5.111, 3.47) {$\\\\circ$};',\n",
       " 'point90': '\\\\node[blue, opacity=1] at (5.192, 3.464) {$\\\\circ$};',\n",
       " 'point91': '\\\\node[blue, opacity=1] at (5.273, 3.372) {$\\\\circ$};',\n",
       " 'point92': '\\\\node[blue, opacity=1] at (5.354, 3.579) {$\\\\circ$};',\n",
       " 'point93': '\\\\node[blue, opacity=1] at (5.434, 2.841) {$\\\\circ$};',\n",
       " 'point94': '\\\\node[blue, opacity=1] at (5.515, 3.054) {$\\\\circ$};',\n",
       " 'point95': '\\\\node[blue, opacity=1] at (5.596, 2.856) {$\\\\circ$};',\n",
       " 'point96': '\\\\node[blue, opacity=1] at (5.677, 3.818) {$\\\\circ$};',\n",
       " 'point97': '\\\\node[blue, opacity=1] at (5.758, 3.505) {$\\\\circ$};',\n",
       " 'point98': '\\\\node[blue, opacity=1] at (5.838, 3.558) {$\\\\circ$};',\n",
       " 'point99': '\\\\node[blue, opacity=1] at (5.919, 3.201) {$\\\\circ$};',\n",
       " 'point100': '\\\\node[blue, opacity=1] at (6.0, 3.684) {$\\\\circ$};'}"
      ]
     },
     "execution_count": 11,
     "metadata": {},
     "output_type": "execute_result"
    }
   ],
   "source": [
    "# The figure is essentially stored as a dict.\n",
    "base._body"
   ]
  },
  {
   "cell_type": "code",
   "execution_count": 12,
   "metadata": {
    "scrolled": true
   },
   "outputs": [],
   "source": [
    "# You can remove an element from the figure by doing\n",
    "base -= 'arrow1'"
   ]
  },
  {
   "cell_type": "markdown",
   "metadata": {},
   "source": [
    "Now the same can be achieved in significantly fewer lines of code by using the higher level methods"
   ]
  },
  {
   "cell_type": "code",
   "execution_count": 13,
   "metadata": {},
   "outputs": [],
   "source": [
    "base = tikzinpy.tikzBase()"
   ]
  },
  {
   "cell_type": "code",
   "execution_count": 14,
   "metadata": {},
   "outputs": [],
   "source": [
    "base += tikzinpy.xaxis(-2, 6, label = \"x\", remove_zero = True, nodepos = 'right')\n",
    "base += tikzinpy.yaxis(-1, 4, label = 'y', remove_zero = True, offset = '-8pt')\n",
    "#base += pytikz.grid((-2.5,-2.5), (6.5,6.5))\n",
    "\n",
    "for x,y in zip(data_x, data_y):\n",
    "    base += point(x,y, shape = 'hollow', color = 'blue')\n",
    "\n",
    "# also add some lines\n",
    "for xl,xh, yl, yh in zip(data_x[:-1], data_x[1:], data_y[:-1], data_y[1:]):\n",
    "    base += line(xl,xh, yl, yh)"
   ]
  },
  {
   "cell_type": "code",
   "execution_count": 15,
   "metadata": {},
   "outputs": [
    {
     "name": "stdout",
     "output_type": "stream",
     "text": [
      "0\n"
     ]
    },
    {
     "data": {
      "text/html": [
       "<iframe src=highlevel.pdf width=700 height=450></iframe>"
      ],
      "text/latex": [
       "\\includegraphics[width=1.0\\textwidth]{highlevel.pdf}"
      ],
      "text/plain": [
       "<__main__.PDF at 0x7f2a049a4fd0>"
      ]
     },
     "execution_count": 15,
     "metadata": {},
     "output_type": "execute_result"
    }
   ],
   "source": [
    "build(base.figure, 'highlevel')\n",
    "PDF('highlevel.pdf', size=(700,450))"
   ]
  },
  {
   "cell_type": "markdown",
   "metadata": {},
   "source": [
    "We can also handle matplotlib colormaps"
   ]
  },
  {
   "cell_type": "code",
   "execution_count": 16,
   "metadata": {},
   "outputs": [],
   "source": [
    "from tikzinpy.shapes.metashapes import pointswarm \n",
    "\n",
    "base = tikzinpy.tikzBase()\n",
    "\n",
    "base += tikzinpy.xaxis(-2, 6, label = \"x\", remove_zero = True, nodepos = 'right')\n",
    "base += tikzinpy.yaxis(-1, 4, label = 'y', remove_zero = True, offset = '-8pt')\n",
    "\n",
    "base += pointswarm(data_x, data_y, c = data_e, cmap = 'PiYG', shape = 'fill', alpha = 0.6)"
   ]
  },
  {
   "cell_type": "code",
   "execution_count": 17,
   "metadata": {},
   "outputs": [
    {
     "name": "stdout",
     "output_type": "stream",
     "text": [
      "0\n"
     ]
    },
    {
     "data": {
      "text/html": [
       "<iframe src=cmap.pdf width=700 height=450></iframe>"
      ],
      "text/latex": [
       "\\includegraphics[width=1.0\\textwidth]{cmap.pdf}"
      ],
      "text/plain": [
       "<__main__.PDF at 0x7f2a049aa710>"
      ]
     },
     "execution_count": 17,
     "metadata": {},
     "output_type": "execute_result"
    }
   ],
   "source": [
    "build(base.figure, 'cmap')\n",
    "PDF('cmap.pdf', size=(700,450))"
   ]
  },
  {
   "cell_type": "markdown",
   "metadata": {},
   "source": [
    "# pgfplots (not even close to working)"
   ]
  },
  {
   "cell_type": "code",
   "execution_count": 18,
   "metadata": {},
   "outputs": [],
   "source": [
    "from tikzinpy import pgfplots"
   ]
  },
  {
   "cell_type": "code",
   "execution_count": 19,
   "metadata": {},
   "outputs": [],
   "source": [
    "# First we set up some data\n",
    "x = np.linspace(0,10, 20)\n",
    "y = x**2\n",
    "\n",
    "# This sets each point in one of three groups (a,b,c)\n",
    "# and sets the coloring accordingly\n",
    "group = np.random.choice(['a','b', 'c'], 20)\n",
    "style = {'a': 'red', 'b': 'mark=square*, blue', 'c': 'green'}"
   ]
  },
  {
   "cell_type": "code",
   "execution_count": 20,
   "metadata": {},
   "outputs": [
    {
     "name": "stdout",
     "output_type": "stream",
     "text": [
      "0\n"
     ]
    }
   ],
   "source": [
    "base = tikzinpy.tikzBase()\n",
    "base.add_package('pgfplots')\n",
    "\n",
    "base += pgfplots.scatterplot(x,y, group, style)\n",
    "build(base.figure, 'scatter')"
   ]
  },
  {
   "cell_type": "code",
   "execution_count": 21,
   "metadata": {},
   "outputs": [
    {
     "data": {
      "text/html": [
       "<iframe src=scatter.pdf width=700 height=450></iframe>"
      ],
      "text/latex": [
       "\\includegraphics[width=1.0\\textwidth]{scatter.pdf}"
      ],
      "text/plain": [
       "<__main__.PDF at 0x7f2a046ddac8>"
      ]
     },
     "execution_count": 21,
     "metadata": {},
     "output_type": "execute_result"
    }
   ],
   "source": [
    "PDF('scatter.pdf', size=(700,450))"
   ]
  },
  {
   "cell_type": "code",
   "execution_count": 22,
   "metadata": {},
   "outputs": [
    {
     "name": "stdout",
     "output_type": "stream",
     "text": [
      "\n",
      "        \\documentclass[tikz, border=2mm]{standalone}\n",
      "        \\usepackage{tikz}\n",
      "\\usepackage{pgfplots}\n",
      "        \\begin{document}    \n",
      "            \\begin{tikzpicture}\n",
      "        \n",
      "        \\begin{axis}[scatter/classes={\n",
      "            a={red},b={mark=square*, blue},c={green}\n",
      "        }]\n",
      "    \n",
      "    \\addplot[scatter,only marks,scatter src=explicit symbolic]\n",
      "        coordinates {\n",
      "            (0.0, 0.0) [b]\n",
      "(0.5263157894736842, 0.27700831024930744) [c]\n",
      "(1.0526315789473684, 1.1080332409972298) [b]\n",
      "(1.5789473684210527, 2.4930747922437675) [c]\n",
      "(2.1052631578947367, 4.432132963988919) [c]\n",
      "(2.631578947368421, 6.925207756232686) [a]\n",
      "(3.1578947368421053, 9.97229916897507) [b]\n",
      "(3.6842105263157894, 13.573407202216066) [c]\n",
      "(4.2105263157894735, 17.728531855955676) [c]\n",
      "(4.7368421052631575, 22.437673130193904) [a]\n",
      "(5.263157894736842, 27.700831024930743) [b]\n",
      "(5.789473684210526, 33.5180055401662) [b]\n",
      "(6.315789473684211, 39.88919667590028) [a]\n",
      "(6.842105263157895, 46.81440443213296) [b]\n",
      "(7.368421052631579, 54.29362880886426) [b]\n",
      "(7.894736842105263, 62.32686980609418) [b]\n",
      "(8.421052631578947, 70.9141274238227) [c]\n",
      "(8.947368421052632, 80.05540166204986) [a]\n",
      "(9.473684210526315, 89.75069252077562) [c]\n",
      "(10.0, 100.0) [c]\n",
      "\n",
      "            };\n",
      "    \\end{axis}    \n",
      "    \n",
      "            \\end{tikzpicture}\n",
      "        \\end{document}\n",
      "        \n"
     ]
    }
   ],
   "source": [
    "print(base.figure)"
   ]
  },
  {
   "cell_type": "code",
   "execution_count": 23,
   "metadata": {},
   "outputs": [],
   "source": [
    "# This is just messing around to try and get colormaps to work\n",
    "from tikzinpy.colors import build_cmap"
   ]
  },
  {
   "cell_type": "code",
   "execution_count": 24,
   "metadata": {},
   "outputs": [
    {
     "name": "stdout",
     "output_type": "stream",
     "text": [
      "<tikzinpy.tikzelement.tikzElement object at 0x7f2a058a0e10>\n"
     ]
    }
   ],
   "source": [
    "print(build_cmap('magma', data_e))"
   ]
  }
 ],
 "metadata": {
  "kernelspec": {
   "display_name": "Python 3",
   "language": "python",
   "name": "python3"
  },
  "language_info": {
   "codemirror_mode": {
    "name": "ipython",
    "version": 3
   },
   "file_extension": ".py",
   "mimetype": "text/x-python",
   "name": "python",
   "nbconvert_exporter": "python",
   "pygments_lexer": "ipython3",
   "version": "3.7.3"
  }
 },
 "nbformat": 4,
 "nbformat_minor": 2
}
